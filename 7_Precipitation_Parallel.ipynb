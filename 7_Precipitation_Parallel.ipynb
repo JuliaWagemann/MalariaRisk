{
 "metadata": {
  "name": "",
  "signature": "sha256:6781d6622df6cfcdb6002b2cd597d8449a1cf9a9b57909df0e4949ba5c5e66d5"
 },
 "nbformat": 3,
 "nbformat_minor": 0,
 "worksheets": [
  {
   "cells": [
    {
     "cell_type": "heading",
     "level": 2,
     "metadata": {},
     "source": [
      "Use QGIS-Processing to create Precipitation Images"
     ]
    },
    {
     "cell_type": "markdown",
     "metadata": {},
     "source": [
      "In order to create Precipitation images, **QGIS** must be installed and set up. For detailed instructions about **QGIS** and **Processing** you can visit [this](http://nbviewer.ipython.org/github/JuliaWagemann/MalariaRisk/blob/master/Air_Temperature.ipynb) page"
     ]
    },
    {
     "cell_type": "heading",
     "level": 3,
     "metadata": {},
     "source": [
      "1. Set up IPython parallel computing clusters"
     ]
    },
    {
     "cell_type": "markdown",
     "metadata": {},
     "source": [
      "This script is intended to work concurrently with 12 engines, that is 1 engine per month to speed up the whole process and to exploit multicore capabilites.\n",
      "\n",
      "To start more engines, go to IPython Notebook *main(Notebooks)* menu, then click on *Clusters*, then enter the number *12* inside *# of engines*, and press start.\n",
      "\n",
      "After a while, run the first code cell, the output should be like: [0, 1, 2, 3, 4, 5, 6, 7, 8, 9, 10, 11]\n",
      "\n",
      "If that is not so, it means the engines are still loading, and you have to rerun the first cell until the output is correct.\n",
      "\n",
      "*Note*: This script works with **%%px** cell magic, this means that the code inside each of these cells is run for every engine."
     ]
    },
    {
     "cell_type": "code",
     "collapsed": false,
     "input": [
      "from IPython.parallel import Client\n",
      "import os\n",
      "rc=Client()\n",
      "rc.ids"
     ],
     "language": "python",
     "metadata": {},
     "outputs": []
    },
    {
     "cell_type": "code",
     "collapsed": false,
     "input": [
      "dview=rc[:]\n",
      "dview.scatter('a' , range(12))\n",
      "dview.get('a')"
     ],
     "language": "python",
     "metadata": {},
     "outputs": []
    },
    {
     "cell_type": "heading",
     "level": 3,
     "metadata": {},
     "source": [
      "STEP #0: Set up paths, working directory inside IPython"
     ]
    },
    {
     "cell_type": "markdown",
     "metadata": {},
     "source": [
      "Before running the import step you have to set the following lines:\n",
      "\n",
      "- Enter /lib /Frameworks /python and other path folders as arguments of sys.path.append lines (if they are present, else comment these lines).\n",
      "- Set delete_temp to True if you want to automatically delete temporary files at the end of the script.\n",
      "- Set wd to your working directory, i.e. where your output files will be saved.\n",
      "- Set country to the country or zone name you are analyzing, this serves only as a prefix for the names of the files in output.\n",
      "- Set QgsApplication.setPrefixPath to your QGIS prefix path, to locate this path, open your QGIS application, go to View -> Panels -> Log Messages -> General and locate the prefix path in the window.\n",
      "- Run the first cell.\n",
      "\n",
      "*Note*: The script attempts to create folders with name:0,1,2,...,11 inside your working directory, these ones will be deleted at the end of the script if delete_temp is set to True. Be careful if you have other files inside these folders."
     ]
    },
    {
     "cell_type": "code",
     "collapsed": false,
     "input": [
      "%%px\n",
      "#STEP 0: Set up paths, working directory inside IPython\n",
      "\n",
      "import sys\n",
      "import os\n",
      "import shutil\n",
      "\n",
      "#QGIS & executables paths(required)\n",
      "sys.path.append('C:\\Program Files (x86)\\QGIS Wien\\lib')\n",
      "sys.path.append('C:\\Program Files (x86)\\QGIS Wien\\apps')\n",
      "sys.path.append('C:\\Program Files (x86)\\QGIS Wien\\apps\\qgis\\python')\n",
      "sys.path.append('C:\\Program Files (x86)\\QGIS Wien\\apps\\qgis\\python\\plugins')\n",
      "sys.path.append('C:\\Program Files (x86)\\QGIS Wien\\apps\\qgis\\python\\plugins\\processing')\n",
      "\n",
      "delete_temp = True\n",
      "\n",
      "#Set working directory\n",
      "wd = 'C:/Alex/script/'\n",
      "#wd = 'P:/3_Malaria_Risk/1_Data/6_Temperature/Ale_script/'\n",
      "\n",
      "#Set input files directory\n",
      "trmmdir=\"P:/3_Malaria_Risk/1_Data/7_Precipitation/2_TRMM/\"\n",
      "monthList = ['Jan', 'Feb', 'Mar', 'Apr', 'May', 'Jun', 'Jul', 'Aug', 'Sep', 'Oct', 'Nov', 'Dec']\n",
      "\n",
      "\n",
      "os.chdir(wd)\n",
      "\n",
      "try:\n",
      "    os.mkdir(wd+str(a[0]))\n",
      "except WindowsError:\n",
      "    print ('Directory already created, it will be deleted at the end of the script if delete_temp is set to True!')\n",
      "    \n",
      "os.chdir(wd+str(a[0]))\n",
      "os.getcwd()\n",
      "\n",
      "#Set temporary folder\n",
      "os.environ['TMP']=os.getcwd()\n",
      "\n",
      "\n",
      "import qgis\n",
      "import gdal\n",
      "from PyQt4.QtCore import QFileInfo,QSettings\n",
      "from qgis.analysis import QgsRasterCalculator, QgsRasterCalculatorEntry\n",
      "from qgis.core import *\n",
      "import qgis.utils\n",
      "\n",
      "\n",
      "#Country name(for output filenames)\n",
      "country = 'MDG'\n",
      "\n",
      "#QGIS path(required)\n",
      "#QgsApplication.setPrefixPath('/Applications/QGIS.app/Contents/MacOS',True)\n",
      "QgsApplication.setPrefixPath('C:/PROGRA~2/QGISWI~1/apps/qgis', True)\n",
      "QgsApplication.initQgis()\n",
      "\n",
      "import sys\n",
      "import os, sys, glob\n",
      "from qgis.core import *\n",
      "from PyQt4.QtGui import *\n",
      "app = QApplication([])\n",
      "\n",
      "# Prepare processing framework \n",
      "import processing\n",
      "from processing.core.Processing import Processing\n",
      "from processing.core.ProcessingConfig import ProcessingConfig\n",
      "ProcessingConfig.setSettingValue('OUTPUT_FOLDER',os.getcwd())\n",
      "Processing.initialize()\n",
      "from processing.tools import *\n"
     ],
     "language": "python",
     "metadata": {},
     "outputs": []
    },
    {
     "cell_type": "heading",
     "level": 3,
     "metadata": {},
     "source": [
      "STEP #1: Open ncdf files with QGIS"
     ]
    },
    {
     "cell_type": "markdown",
     "metadata": {},
     "source": [
      "In this step each engine will open each .nc file in position N mod 12 of the input files directory as a raster layer.\n",
      "\n",
      "For example: the first engine will open the 1st, the 13th the 25th and so on....that are exactly input files regarding January.\n",
      "\n",
      "The second engine does the same for February, and so on..."
     ]
    },
    {
     "cell_type": "code",
     "collapsed": false,
     "input": [
      "%%px\n",
      "#STEP1 Open ncdf files with QGIS\n",
      "\n",
      "rlayers=[]\n",
      "i=0\n",
      "\n",
      "for file in os.listdir(trmmdir):\n",
      "    if file.endswith(\".nc\"):\n",
      "        if i==a[0]:\n",
      "            rlayers.append(QgsRasterLayer('NETCDF:'+'\"'+trmmdir+file+'\":pcp'))\n",
      "            #print uri\n",
      "        i+=1\n",
      "        i%=12\n",
      "#print(rlayers)"
     ],
     "language": "python",
     "metadata": {},
     "outputs": []
    },
    {
     "cell_type": "heading",
     "level": 3,
     "metadata": {},
     "source": [
      "STEP #2: Reproject with Processing:GDAL"
     ]
    },
    {
     "cell_type": "markdown",
     "metadata": {},
     "source": [
      "Each engine will reproject the ncdf files into **EPSG:4326** that is used by the boundaries shapefile"
     ]
    },
    {
     "cell_type": "code",
     "collapsed": false,
     "input": [
      "%%px\n",
      "projected=[]\n",
      "for item in range(0, len(rlayers)):\n",
      "    proc=processing.runalg('gdalogr:warpreproject', rlayers[item], 'EPSG:4326', 'EPSG:4326', None, None, None, None, None, None, None, None, None, None, None, None, None)\n",
      "    projected.append(proc['OUTPUT'])    \n",
      "\n",
      "#print(projected)"
     ],
     "language": "python",
     "metadata": {},
     "outputs": []
    },
    {
     "cell_type": "heading",
     "level": 3,
     "metadata": {},
     "source": [
      "STEP #3: Clip by boundaries"
     ]
    },
    {
     "cell_type": "markdown",
     "metadata": {},
     "source": [
      "In this step the script will clip every image by the country administrative boundaries shapefile.\n",
      "\n",
      "Before running this step, make sure you set *shapefilename* correctly."
     ]
    },
    {
     "cell_type": "code",
     "collapsed": false,
     "input": [
      "%%px\n",
      "#STEP3 clip by boundaries\n",
      "shapefilename = 'P:/3_Malaria_Risk/1_Data/5_Admin_Boundaries/MDG_adm/MDG_adm0.shp'\n",
      "fileInfo2 = QFileInfo(shapefilename)\n",
      "baseName2 = fileInfo2.baseName()\n",
      "vlayer1 = QgsVectorLayer(shapefilename, baseName2,'ogr')        \n",
      "clipped=[]    \n",
      "for item in range (0, len(projected)):\n",
      "    proc=processing.runalg('gdalogr:cliprasterbymasklayer', QgsRasterLayer(projected[item]), vlayer1, None, None, None, None, None)\n",
      "    clipped.append(proc['OUTPUT'])\n",
      "    \n",
      "\n",
      "#print(clipped)    \n",
      "       \n"
     ],
     "language": "python",
     "metadata": {},
     "outputs": []
    },
    {
     "cell_type": "heading",
     "level": 3,
     "metadata": {},
     "source": [
      "STEP #4: Calculate min,max,average,sum with Processing:GRASS"
     ]
    },
    {
     "cell_type": "markdown",
     "metadata": {},
     "source": [
      "In this step the script creates images with statistics for each pixel: minimum, maximum, average and sum.\n",
      "\n",
      "In order to do this **grass:r.series** algorithm is called with different parameters for each statistic."
     ]
    },
    {
     "cell_type": "code",
     "collapsed": false,
     "input": [
      "%%px\n",
      "#STEP4 calculate min,max,average,sum\n",
      "aggregates=''\n",
      "for item in clipped:\n",
      "    aggregates+=item+';'\n",
      "    \n",
      "aggregates=aggregates[:-1]\n",
      "#print(aggregates)\n",
      "templayer=QgsRasterLayer(clipped[0])\n",
      "temp=templayer.extent()\n",
      "extent=str(temp.xMinimum())+','+str(temp.xMaximum())+','+str(temp.yMinimum())+','+str(temp.yMaximum())\n",
      "\n",
      "minimum=(processing.runalg('grass:r.series',aggregates,True, 4, '-10000000000,10000000000',extent,0, os.getcwd()+'/minimumtemp.tif'))\n",
      "maximum=(processing.runalg('grass:r.series',aggregates,True, 6, '-10000000000,10000000000',extent,0, os.getcwd()+'/maximumtemp.tif'))\n",
      "average=(processing.runalg('grass:r.series',aggregates,True, 0, '-10000000000,10000000000',extent,0, os.getcwd()+'/averagetemp.tif'))\n",
      "somma=(processing.runalg('grass:r.series',aggregates,True, 10, '-10000000000,10000000000',extent,0, os.getcwd()+'/sumtemp.tif'))"
     ],
     "language": "python",
     "metadata": {},
     "outputs": []
    },
    {
     "cell_type": "heading",
     "level": 3,
     "metadata": {},
     "source": [
      "STEP #5: Convert mm/hr to mm/month (multiply by 720 for every month, should I correct this?)"
     ]
    },
    {
     "cell_type": "markdown",
     "metadata": {},
     "source": [
      "Since input data is in millimeters per hour and we want them in millimeters per month, **grass:r.mapcalculator** multiplies each pixel by 720, that is, 24 hours * 30 days.\n",
      "\n",
      "**Output**: *country_Prec_Month_Minimum.tif, country_Prec_Month_Maximum.tif, country_Prec_Month_Average.tif, country_Prec_Month_Sum.tif*"
     ]
    },
    {
     "cell_type": "code",
     "collapsed": false,
     "input": [
      "%%px\n",
      "#STEP 5 convert mm/hr to mm/month (multiply by 720)\n",
      "#For the minimum we're using a different method, since grass:r.mapcalculator takes 0 as NODATA\n",
      "\n",
      "entries = []\n",
      "fileInfo1 = QFileInfo(minimum['output'])\n",
      "baseName1 = fileInfo1.baseName()\n",
      "rlayer1 = QgsRasterLayer(minimum['output'],baseName1)\n",
      "\n",
      "entry1 = QgsRasterCalculatorEntry()\n",
      "entry1.ref = baseName1+'@1'\n",
      "entry1.raster = rlayer1\n",
      "entry1.bandNumber = 1\n",
      "entries.append(entry1)\n",
      "\n",
      "calc = QgsRasterCalculator('('+baseName1+'@1 * 720)', wd+country+'_Prec_'+monthList[a[0]]+'_Minimum.tif', 'GTiff', rlayer1.extent(), rlayer1.width(), rlayer1.height(), entries)\n",
      "calc.processCalculation()\n",
      "#processing.runalg('grass:r.mapcalculator',minimum['output'], None, None, None, None, None, 'if(isnull(A),0,A*720)', extent, '0', wd+country+'_Prec_'+monthList[a[0]]+'_Minimum.tif')\n",
      "processing.runalg('grass:r.mapcalculator',maximum['output'], None, None, None, None, None, 'A*720', extent, '0', wd+country+'_Prec_'+monthList[a[0]]+'_Maximum.tif')\n",
      "processing.runalg('grass:r.mapcalculator',average['output'], None, None, None, None, None, 'A*720', extent, '0', wd+country+'_Prec_'+monthList[a[0]]+'_Average.tif')\n",
      "processing.runalg('grass:r.mapcalculator',somma['output'], None, None, None, None, None, 'A*720', extent, '0', wd+country+'_Prec_'+monthList[a[0]]+'_Sum.tif')"
     ],
     "language": "python",
     "metadata": {},
     "outputs": []
    },
    {
     "cell_type": "heading",
     "level": 3,
     "metadata": {},
     "source": [
      "STEP #6: Exit QGIS and cleanup"
     ]
    },
    {
     "cell_type": "markdown",
     "metadata": {},
     "source": [
      "The script quits every instance of QGIS, releasing file locks and attempts to remove the temporary folders if delete_temp is set to True."
     ]
    },
    {
     "cell_type": "code",
     "collapsed": false,
     "input": [
      "%%px\n",
      "\n",
      "#STEP 6 exit QGIS and remove temporary files\n",
      "\n",
      "\n",
      "QgsApplication.exitQgis()\n",
      "#QgsApplication.quit()\n",
      "app.quit()\n",
      "#print(os.getcwd())"
     ],
     "language": "python",
     "metadata": {},
     "outputs": []
    },
    {
     "cell_type": "code",
     "collapsed": false,
     "input": [
      "%%px\n",
      "if(delete_temp==True):\n",
      "    oldwd=os.getcwd()\n",
      "    os.chdir(wd)\n",
      "    shutil.rmtree(oldwd)"
     ],
     "language": "python",
     "metadata": {},
     "outputs": []
    },
    {
     "cell_type": "code",
     "collapsed": false,
     "input": [],
     "language": "python",
     "metadata": {},
     "outputs": []
    }
   ],
   "metadata": {}
  }
 ]
}