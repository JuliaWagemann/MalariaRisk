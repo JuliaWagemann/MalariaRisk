{
 "metadata": {
  "name": "",
  "signature": "sha256:52c2dfd22a25786111f3e8ae07bce64bf3104cf2289301874b0f950e3f6b8486"
 },
 "nbformat": 3,
 "nbformat_minor": 0,
 "worksheets": [
  {
   "cells": [
    {
     "cell_type": "heading",
     "level": 2,
     "metadata": {},
     "source": [
      "Convert GeoTIFF files into Erdas Imagine Images (.img) to use with ModelMap"
     ]
    },
    {
     "cell_type": "markdown",
     "metadata": {},
     "source": [
      "The R package ModelMap needs .img files to create a RandomForest model and all the images need to have the same extent, pixelsize and number of rows/columns.\n",
      "\n",
      "This notebooks converts a series of GeoTiff images into .img extension and sets the parameters described above to the same values for all the images."
     ]
    },
    {
     "cell_type": "code",
     "collapsed": false,
     "input": [
      "import sys\n",
      "import os\n",
      "\n",
      "#QGIS & executables paths(required)\n",
      "#sys.path.append('/Applications/QGIS.app/Contents/MacOS/lib/')\n",
      "#sys.path.append('/Applications/QGIS.app/Contents/Frameworks/')\n",
      "#sys.path.append('/Applications/QGIS.app/Contents/Resources/python/')\n",
      "#executables_path = '/usr/local/bin/'\n",
      "sys.path.append('C:\\Program Files (x86)\\QGIS Wien\\lib')\n",
      "sys.path.append('C:\\Program Files (x86)\\QGIS Wien\\apps')\n",
      "sys.path.append('C:\\Program Files (x86)\\QGIS Wien\\apps\\qgis\\python')\n",
      "#executables_path = 'C:/Program Files (x86)/QGIS Wien/bin'\n",
      "sys.path.append('C:\\Program Files (x86)\\QGIS Wien\\apps\\qgis\\bin')\n",
      "sys.path.append('C:\\Program Files (x86)\\QGIS Wien\\ ')\n",
      "sys.path.append('C:\\Program Files (x86)\\QGIS Wien\\apps\\qgis')\n",
      "\n",
      "#Set working directory(Output files location)\n",
      "#wd = '/Users/Alex/Ipython_Notebook_Working/script/'\n",
      "wd = 'C:/Alex/script/'\n",
      "\n",
      "os.chdir(wd)\n",
      "\n",
      "import qgis\n",
      "import gdal\n",
      "from PyQt4.QtCore import QFileInfo,QSettings\n",
      "from qgis.analysis import QgsRasterCalculator, QgsRasterCalculatorEntry\n",
      "from qgis.core import *\n",
      "import qgis.utils\n",
      "\n",
      "\n",
      "#Country name(for output filenames)\n",
      "country = 'MDG'\n",
      "\n",
      "#QGIS path(required)\n",
      "#QgsApplication.setPrefixPath('/Applications/QGIS.app/Contents/MacOS',True)\n",
      "QgsApplication.setPrefixPath('C:/PROGRA~2/QGISWI~1/apps/qgis', True)\n",
      "QgsApplication.initQgis()\n"
     ],
     "language": "python",
     "metadata": {},
     "outputs": [],
     "prompt_number": 1
    },
    {
     "cell_type": "markdown",
     "metadata": {},
     "source": [
      "Set *srcimg* to the path of the source image and *imgdir* to the directory where the GeoTiff files are stored.\n",
      "\n",
      "The script will convert all the(singlebanded) images included in the directory into .img files with the parameters of the source image."
     ]
    },
    {
     "cell_type": "code",
     "collapsed": false,
     "input": [
      "srcimg=\"C:/Alex/script/asdr.img\"\n",
      "imgdir= \"C:/Alex/batchtry/\"\n",
      "\n",
      "for file in os.listdir(imgdir):\n",
      "    if file.endswith(\".tif\"):\n",
      "        entries = []\n",
      "        output_name2=imgdir+file\n",
      "        print(output_name2)\n",
      "        fileInfo1 = QFileInfo(srcimg)\n",
      "        baseName1 = fileInfo1.baseName()\n",
      "        rlayer1 = QgsRasterLayer(srcimg,baseName1)\n",
      "        fileInfo2 = QFileInfo(output_name2)\n",
      "        baseName2 = fileInfo2.baseName()\n",
      "        rlayer2 = QgsRasterLayer(output_name2, baseName2)\n",
      "\n",
      "        entry1 = QgsRasterCalculatorEntry()\n",
      "        entry1.ref = baseName1+'@1'\n",
      "        entry1.raster = rlayer1\n",
      "        entry1.bandNumber = 1\n",
      "        entries.append(entry1)\n",
      "\n",
      "        entry2 = QgsRasterCalculatorEntry()\n",
      "        entry2.ref = baseName2+'@1'\n",
      "        entry2.raster = rlayer2\n",
      "        entry2.bandNumber = 1\n",
      "        entries.append(entry2)\n",
      "\n",
      "        # Process calculation \n",
      "        expression=baseName2+'@1'\n",
      "        #print(expression)\n",
      "        output_OR = output_name2+\".img\"\n",
      "        print(output_OR)\n",
      "        calc = QgsRasterCalculator(expression, output_OR, 'HFA', rlayer1.extent(), 735, 1370, entries)\n",
      "        calc.processCalculation()"
     ],
     "language": "python",
     "metadata": {},
     "outputs": [
      {
       "output_type": "stream",
       "stream": "stdout",
       "text": [
        "C:/Alex/batchtry/apr_pdownsc.tif\n",
        "C:/Alex/batchtry/apr_pdownsc.tif.img"
       ]
      },
      {
       "output_type": "stream",
       "stream": "stdout",
       "text": [
        "\n",
        "C:/Alex/batchtry/jul_pdownsc.tif"
       ]
      },
      {
       "output_type": "stream",
       "stream": "stdout",
       "text": [
        "\n",
        "C:/Alex/batchtry/jul_pdownsc.tif.img"
       ]
      },
      {
       "output_type": "stream",
       "stream": "stdout",
       "text": [
        "\n",
        "C:/Alex/batchtry/MDG_Apr_Average.tif"
       ]
      },
      {
       "output_type": "stream",
       "stream": "stdout",
       "text": [
        "\n",
        "C:/Alex/batchtry/MDG_Apr_Average.tif.img"
       ]
      },
      {
       "output_type": "stream",
       "stream": "stdout",
       "text": [
        "\n",
        "C:/Alex/batchtry/MDG_Evapo_Aug_Average.tif"
       ]
      },
      {
       "output_type": "stream",
       "stream": "stdout",
       "text": [
        "\n",
        "C:/Alex/batchtry/MDG_Evapo_Aug_Average.tif.img"
       ]
      },
      {
       "output_type": "stream",
       "stream": "stdout",
       "text": [
        "\n",
        "C:/Alex/batchtry/MDG_Evapo_Dec_Average.tif"
       ]
      },
      {
       "output_type": "stream",
       "stream": "stdout",
       "text": [
        "\n",
        "C:/Alex/batchtry/MDG_Evapo_Dec_Average.tif.img"
       ]
      },
      {
       "output_type": "stream",
       "stream": "stdout",
       "text": [
        "\n",
        "C:/Alex/batchtry/MDG_Evapo_Feb_Minimum.tif"
       ]
      },
      {
       "output_type": "stream",
       "stream": "stdout",
       "text": [
        "\n",
        "C:/Alex/batchtry/MDG_Evapo_Feb_Minimum.tif.img"
       ]
      },
      {
       "output_type": "stream",
       "stream": "stdout",
       "text": [
        "\n",
        "C:/Alex/batchtry/MDG_Jan_Average.tif"
       ]
      },
      {
       "output_type": "stream",
       "stream": "stdout",
       "text": [
        "\n",
        "C:/Alex/batchtry/MDG_Jan_Average.tif.img"
       ]
      },
      {
       "output_type": "stream",
       "stream": "stdout",
       "text": [
        "\n",
        "C:/Alex/batchtry/MDG_Jan_Maximum.tif"
       ]
      },
      {
       "output_type": "stream",
       "stream": "stdout",
       "text": [
        "\n",
        "C:/Alex/batchtry/MDG_Jan_Maximum.tif.img"
       ]
      },
      {
       "output_type": "stream",
       "stream": "stdout",
       "text": [
        "\n",
        "C:/Alex/batchtry/MDG_Prec_Apr_Average.tif"
       ]
      },
      {
       "output_type": "stream",
       "stream": "stdout",
       "text": [
        "\n",
        "C:/Alex/batchtry/MDG_Prec_Apr_Average.tif.img"
       ]
      },
      {
       "output_type": "stream",
       "stream": "stdout",
       "text": [
        "\n",
        "C:/Alex/batchtry/MDG_Prec_Apr_Maximum.tif"
       ]
      },
      {
       "output_type": "stream",
       "stream": "stdout",
       "text": [
        "\n",
        "C:/Alex/batchtry/MDG_Prec_Apr_Maximum.tif.img"
       ]
      },
      {
       "output_type": "stream",
       "stream": "stdout",
       "text": [
        "\n",
        "C:/Alex/batchtry/MDG_Prec_Aug_Average.tif"
       ]
      },
      {
       "output_type": "stream",
       "stream": "stdout",
       "text": [
        "\n",
        "C:/Alex/batchtry/MDG_Prec_Aug_Average.tif.img"
       ]
      },
      {
       "output_type": "stream",
       "stream": "stdout",
       "text": [
        "\n",
        "C:/Alex/batchtry/MDG_Prec_Aug_Minimum.tif"
       ]
      },
      {
       "output_type": "stream",
       "stream": "stdout",
       "text": [
        "\n",
        "C:/Alex/batchtry/MDG_Prec_Aug_Minimum.tif.img"
       ]
      },
      {
       "output_type": "stream",
       "stream": "stdout",
       "text": [
        "\n",
        "C:/Alex/batchtry/nov_pdownsc.tif"
       ]
      },
      {
       "output_type": "stream",
       "stream": "stdout",
       "text": [
        "\n",
        "C:/Alex/batchtry/nov_pdownsc.tif.img"
       ]
      },
      {
       "output_type": "stream",
       "stream": "stdout",
       "text": [
        "\n"
       ]
      }
     ],
     "prompt_number": 17
    },
    {
     "cell_type": "code",
     "collapsed": false,
     "input": [],
     "language": "python",
     "metadata": {},
     "outputs": []
    },
    {
     "cell_type": "code",
     "collapsed": false,
     "input": [],
     "language": "python",
     "metadata": {},
     "outputs": []
    }
   ],
   "metadata": {}
  }
 ]
}