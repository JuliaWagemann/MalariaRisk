{
 "metadata": {
  "name": "",
  "signature": "sha256:8cf60e4a9f7f94c7ffac7a44cb384fd7a2f5db8f0221ea87e43c317e456bcfb2"
 },
 "nbformat": 3,
 "nbformat_minor": 0,
 "worksheets": [
  {
   "cells": [
    {
     "cell_type": "code",
     "collapsed": false,
     "input": [
      "import sys\n",
      "sys.path.append('C:\\Program Files (x86)\\QGIS Wien\\lib')\n",
      "sys.path.append('C:\\Program Files (x86)\\QGIS Wien\\apps')\n",
      "sys.path.append('C:\\Program Files (x86)\\QGIS Wien\\apps\\qgis\\python')\n",
      "sys.path.append('C:\\Program Files (x86)\\QGIS Wien\\apps\\qgis\\python\\plugins')\n",
      "sys.path.append('C:\\Program Files (x86)\\QGIS Wien\\apps\\qgis\\python\\plugins\\processing')\n",
      "import qgis\n",
      "from PyQt4.QtCore import QFileInfo,QSettings\n",
      "from qgis.analysis import QgsRasterCalculator, QgsRasterCalculatorEntry\n",
      "from qgis.core import *\n",
      "import qgis.utils\n",
      "QgsApplication.setPrefixPath('C:/PROGRA~2/QGISWI~1/apps/qgis', True)\n",
      "QgsApplication.initQgis()\n",
      "import os, glob\n",
      "from qgis.core import *\n",
      "from PyQt4.QtGui import *\n",
      "from qgis.core import * # qgis.core must be imported before PyQt4.QtGui!!!\n",
      "from PyQt4.QtGui import *\n",
      "app = QApplication([])\n",
      "import processing\n",
      "from processing.core.Processing import Processing\n",
      "Processing.initialize()\n",
      "from processing.tools import *\n",
      "#Set working directory\n",
      "wd = \"C:/Alex/script\"\n",
      "os.chdir(wd)"
     ],
     "language": "python",
     "metadata": {},
     "outputs": []
    },
    {
     "cell_type": "code",
     "collapsed": false,
     "input": [
      "ndvi=QgsRasterLayer(\"ndvi_sagaclip.tif\")\n",
      "dem=QgsRasterLayer(\"mdg_dgm_composite_clip.tiff\")\n"
     ],
     "language": "python",
     "metadata": {},
     "outputs": []
    },
    {
     "cell_type": "code",
     "collapsed": false,
     "input": [
      "\n",
      "ndvipsize=ndvi.rasterUnitsPerPixelX()\n",
      "dempsize=dem.rasterUnitsPerPixelX()"
     ],
     "language": "python",
     "metadata": {},
     "outputs": []
    },
    {
     "cell_type": "code",
     "collapsed": false,
     "input": [
      "ndvioutsize= ndvipsize * 400\n",
      "demoutsize = dempsize * 400\n",
      "ndvicounter = 0\n",
      "demcounter = 0\n",
      "while (ndvioutsize<1):\n",
      "    ndvioutsize = ndvioutsize * 10\n",
      "    ndvicounter += 1\n",
      "print(ndvicounter)\n",
      "while (demoutsize<1):\n",
      "    demoutsize = demoutsize * 10\n",
      "    demcounter += 1\n",
      "print(demcounter)\n",
      "print(demoutsize)"
     ],
     "language": "python",
     "metadata": {},
     "outputs": []
    },
    {
     "cell_type": "code",
     "collapsed": false,
     "input": [
      "tempndvi=ndvi.extent()\n",
      "ndviextent=str(tempndvi.xMinimum())+','+str(tempndvi.xMaximum())+','+str(tempndvi.yMinimum())+','+str(tempndvi.yMaximum())\n",
      "\n",
      "tempdem = dem.extent()\n",
      "demextent = str(tempdem.xMinimum())+','+str(tempdem.xMaximum())+','+str(tempdem.yMinimum())+','+str(tempdem.yMaximum())\n",
      "ndviresampled=processing.runalg(\"gdalogr:translate\",ndvi,ndvioutsize,True,\"\",0,\"\",ndviextent,False,5,0,75,6,1,False,0,False,\"\",wd+'/ndviresampled.tif')\n",
      "demresampled=processing.runalg(\"gdalogr:translate\",dem,demoutsize,True,\"\",0,\"\",demextent,False,5,0,75,6,1,False,0,False,\"\",wd+'/demresampled.tif')\n",
      "\n",
      "\n",
      "#ras2=QgsRasterLayer(out['OUTPUT'])\n",
      "#out=processing.runalg(\"gdalogr:translate\",ras2,10,True,\"\",0,\"\",extent,False,5,0,75,6,1,False,0,False,\"\",wd+'/provatranslatefinal.tif')"
     ],
     "language": "python",
     "metadata": {},
     "outputs": []
    },
    {
     "cell_type": "code",
     "collapsed": false,
     "input": [
      "while (ndvicounter>0):\n",
      "    ndvicounter -= 1 \n",
      "    outp= str(ndvicounter)\n",
      "    if (ndvicounter==0):\n",
      "        outp='final'\n",
      "    ndviresampled=processing.runalg(\"gdalogr:translate\",ndviresampled['OUTPUT'],10,True,\"\",0,\"\",ndviextent,False,5,0,75,6,1,False,0,False,\"\",wd+'/ndviresampled'+outp+'.tif')\n",
      "    \n",
      "    \n",
      "    \n",
      "while (demcounter>0):\n",
      "    demcounter -= 1 \n",
      "    outp= str(demcounter)\n",
      "    if (demcounter==0):\n",
      "        outp='final'\n",
      "    demresampled=processing.runalg(\"gdalogr:translate\",demresampled['OUTPUT'],10,True,\"\",0,\"\",demextent,False,5,0,75,6,1,False,0,False,\"\",wd+'/demresampled'+outp+'.tif')\n",
      "    \n",
      "    "
     ],
     "language": "python",
     "metadata": {},
     "outputs": []
    }
   ],
   "metadata": {}
  }
 ]
}