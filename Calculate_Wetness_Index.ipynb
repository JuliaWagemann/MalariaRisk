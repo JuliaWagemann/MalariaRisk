{
 "metadata": {
  "name": "",
  "signature": "sha256:36383ab9156e1d2b1c808d1c0f4746ca07b70059fd716b1c4dc35b46154176bc"
 },
 "nbformat": 3,
 "nbformat_minor": 0,
 "worksheets": [
  {
   "cells": [
    {
     "cell_type": "heading",
     "level": 3,
     "metadata": {},
     "source": [
      "Calculate Topographic Wetness Index (TWI) based on given SRTM tiles"
     ]
    },
    {
     "cell_type": "heading",
     "level": 4,
     "metadata": {},
     "source": [
      "Load necessary libraries"
     ]
    },
    {
     "cell_type": "code",
     "collapsed": false,
     "input": [
      "import os\n",
      "import sys\n",
      "import numpy\n",
      "import grass.script as grass\n",
      "import grass.script.setup as gsetup\n",
      "from grass.script import raster as raster"
     ],
     "language": "python",
     "metadata": {},
     "outputs": [],
     "prompt_number": 1
    },
    {
     "cell_type": "heading",
     "level": 4,
     "metadata": {},
     "source": [
      "Information to specify manually"
     ]
    },
    {
     "cell_type": "code",
     "collapsed": false,
     "input": [
      "# Path to administrative boundaries of specific country\n",
      "path_adminBound = \"P:/1_Climate_Health/4_ML_results/4_Random_Forest/1_Data/5_Admin_Boundaries/MDG_adm\"\n",
      "# Path to raw SRTM-tiles --> TODO: possible connection to webserver and download on-demand\n",
      "path_raw = \"P:/1_Climate_Health/4_ML_results/4_Random_Forest/1_Data/4_SRTM_Madagascar/SRTM_tiles/\"\n",
      "# Path to saved outcomes\n",
      "path_results = \"P:/1_Climate_Health/4_ML_results/4_Random_Forest/1_Data/4_SRTM_Madagascar/SRTM_processed/\" \n",
      "\n",
      "# Name of administrative boundary file\n",
      "shapeFileName = \"MDG_adm0.shp\"\n",
      "# Specify name of clipped dem composite\n",
      "output_composite_clip = \"mdg_dgm_composite_clip\"\n",
      "# Specify of projected dem\n",
      "dgm_proj = 'mdg_dgm_UTM'\n",
      "\n",
      "# Specify min and max values of normalized TWI index\n",
      "normalize_min = 0\n",
      "normalize_max = 1\n",
      "\n",
      "# GRASS GIS specification\n",
      "gisdbase = 'P:/1_Climate_Health/4_ML_results/4_Random_Forest/2_GRASSGIS'\n",
      "\n",
      "location_raw = 'madagascar'\n",
      "epsg_raw = 4326\n",
      "n_raw = \"11:56:55.5S\"\n",
      "s_raw = \"25:36:22.5S\"\n",
      "w_raw = \"43:11:17.5E\"\n",
      "e_raw = \"50:29:11.5E\"\n",
      "res_raw = \"0:00:03\"\n",
      "\n",
      "location_proj = 'madagascar_UTM'\n",
      "epsg_proj = 32738\n",
      "n_proj = \"8679061\"\n",
      "s_proj = \"7166676\"\n",
      "w_proj = \"318059\"\n",
      "e_proj = \"1200000\"\n",
      "res_proj = \"90\"\n",
      "\n",
      "mapset = 'PERMANENT'"
     ],
     "language": "python",
     "metadata": {},
     "outputs": [],
     "prompt_number": 2
    },
    {
     "cell_type": "heading",
     "level": 4,
     "metadata": {},
     "source": [
      "Setup GRASS GIS location for unprojected raster data - WGS84"
     ]
    },
    {
     "cell_type": "code",
     "collapsed": false,
     "input": [
      "gisbase = os.environ['GISBASE']\n",
      "gsetup.init(gisbase, gisdbase, location_raw, mapset)\n",
      "print grass.gisenv()\n",
      "\n",
      "if os.path.exists(gisdbase + '/' + location_raw):\n",
      "    print('Location ' + gisdbase + \"/\" + location_raw +  ' already exists!')\n",
      "    print ('Available mapsets: ' + str(grass.mapsets()))\n",
      "else:\n",
      "    grass.core.create_location(gisdbase,location_raw,epsg=epsg_raw)\n",
      "    grass.read_command(\"g.proj\", quiet = False,\n",
      "                   proj4 = '+init = epsg:'+str(epsg_raw), \n",
      "                   location = location_raw, \n",
      "                   flags = \"c\")\n",
      "    \n",
      "    grass.read_command(\"g.region\", quiet = False,\n",
      "                   n = n_raw,\n",
      "                   s = s_raw,\n",
      "                   w = w_raw,\n",
      "                   e = e_raw,\n",
      "                   nsres = res_raw,\n",
      "                   ewres = res_raw)"
     ],
     "language": "python",
     "metadata": {},
     "outputs": [
      {
       "output_type": "stream",
       "stream": "stdout",
       "text": [
        "{'MAPSET': 'PERMANENT', 'GISDBASE': 'P:/1_Climate_Health/4_ML_results/4_Random_Forest/2_GRASSGIS', 'LOCATION_NAME': 'madagascar'}\n"
       ]
      }
     ],
     "prompt_number": 3
    },
    {
     "cell_type": "heading",
     "level": 4,
     "metadata": {},
     "source": [
      "Setup of GRASS GIS location for projected data - UTM"
     ]
    },
    {
     "cell_type": "code",
     "collapsed": false,
     "input": [
      "gisbase = os.environ['GISBASE']\n",
      "gsetup.init(gisbase, gisdbase, location_proj, mapset)\n",
      "print grass.gisenv()\n",
      "\n",
      "if os.path.exists(gisdbase + '/' + location_proj):\n",
      "    print('Location ' + gisdbase + \"/\" + location_proj +  ' already exists!')\n",
      "    print ('Available mapsets: ' + str(grass.mapsets()))\n",
      "\n",
      "# Set to current mapset\n",
      "    grass.read_command(\"g.mapset\", quiet = True,\n",
      "                   mapset = \"PERMANENT\",\n",
      "                   location = location_proj)\n",
      "\n",
      "# Get information about existing raster datasets in the current mapset\n",
      "    print ('Available raster maps:')\n",
      "    for rast in grass.list_strings(type = 'rast'):\n",
      "        a = rast\n",
      "        print a\n",
      "\n",
      "# if it does not exist, create location and set location regional settings        \n",
      "else:\n",
      "    grass.core.create_location(gisdbase,location_proj,epsg=epsg_proj)\n",
      "    grass.read_command(\"g.region\", quiet = False,\n",
      "                   n = n_proj,\n",
      "                   s = s_proj,\n",
      "                   w = w_proj,\n",
      "                   e = e_proj,\n",
      "                   nsres = res_proj,\n",
      "                   ewres = res_proj,\n",
      "                   flags=\"p\")"
     ],
     "language": "python",
     "metadata": {},
     "outputs": [
      {
       "output_type": "stream",
       "stream": "stdout",
       "text": [
        "{'MAPSET': 'PERMANENT', 'GISDBASE': 'P:/1_Climate_Health/4_ML_results/4_Random_Forest/2_GRASSGIS', 'LOCATION_NAME': 'madagascar_UTM'}\n"
       ]
      }
     ],
     "prompt_number": 4
    },
    {
     "cell_type": "heading",
     "level": 4,
     "metadata": {},
     "source": [
      "Load SRTM tiles into location for unprojected raster data"
     ]
    },
    {
     "cell_type": "code",
     "collapsed": false,
     "input": [
      "# Set current location to location for unprojected raster data\n",
      "grass.read_command(\"g.mapset\", quiet = True,\n",
      "                   mapset = mapset,\n",
      "                   location = location_raw)\n",
      "# List files in fileList\n",
      "fileList = os.listdir(path_raw)\n",
      "\n",
      "# Go through all files in fileList with .tif ending and load them to GRASS GIS location\n",
      "for i in fileList:\n",
      "    if i.endswith('.tif'):\n",
      "        print i\n",
      "        grass.read_command(\"r.in.gdal\", overwrite=True, quiet=True,\n",
      "                   input=path_raw+i,\n",
      "                   output=str(i[0:10]))"
     ],
     "language": "python",
     "metadata": {},
     "outputs": [
      {
       "output_type": "stream",
       "stream": "stdout",
       "text": [
        "srtm_45_16.tif\n",
        "srtm_45_17.tif"
       ]
      },
      {
       "output_type": "stream",
       "stream": "stdout",
       "text": [
        "\n",
        "srtm_45_18.tif"
       ]
      },
      {
       "output_type": "stream",
       "stream": "stdout",
       "text": [
        "\n",
        "srtm_46_15.tif"
       ]
      },
      {
       "output_type": "stream",
       "stream": "stdout",
       "text": [
        "\n",
        "srtm_46_16.tif"
       ]
      },
      {
       "output_type": "stream",
       "stream": "stdout",
       "text": [
        "\n",
        "srtm_46_17.tif"
       ]
      },
      {
       "output_type": "stream",
       "stream": "stdout",
       "text": [
        "\n",
        "srtm_46_18.tif"
       ]
      },
      {
       "output_type": "stream",
       "stream": "stdout",
       "text": [
        "\n",
        "srtm_47_15.tif"
       ]
      },
      {
       "output_type": "stream",
       "stream": "stdout",
       "text": [
        "\n",
        "srtm_47_16.tif"
       ]
      },
      {
       "output_type": "stream",
       "stream": "stdout",
       "text": [
        "\n"
       ]
      }
     ],
     "prompt_number": 5
    },
    {
     "cell_type": "code",
     "collapsed": false,
     "input": [
      "print ('Available raster maps:')\n",
      "for rast in grass.list_strings(type = 'rast'):\n",
      "    a = rast\n",
      "    print a\n",
      "\n",
      "string = str()\n",
      "for i in grass.list_strings(type='rast'):\n",
      "    string += i + ','\n",
      "\n",
      "grass.read_command('r.patch',overwrite=True,quiet=False,\n",
      "                   input=string[:-1],\n",
      "                   output='composite')"
     ],
     "language": "python",
     "metadata": {},
     "outputs": [
      {
       "output_type": "stream",
       "stream": "stdout",
       "text": [
        "Available raster maps:\n",
        "srtm_45_16@PERMANENT"
       ]
      },
      {
       "output_type": "stream",
       "stream": "stdout",
       "text": [
        "\n",
        "srtm_45_18@PERMANENT\n",
        "srtm_46_16@PERMANENT\n",
        "srtm_46_18@PERMANENT\n",
        "srtm_47_16@PERMANENT\n",
        "srtm_45_17@PERMANENT\n",
        "srtm_46_15@PERMANENT\n",
        "srtm_46_17@PERMANENT\n",
        "srtm_47_15@PERMANENT\n"
       ]
      },
      {
       "metadata": {},
       "output_type": "pyout",
       "prompt_number": 6,
       "text": [
        "''"
       ]
      }
     ],
     "prompt_number": 6
    },
    {
     "cell_type": "code",
     "collapsed": false,
     "input": [
      "grass.read_command('v.in.ogr', overwrite=True, quiet=False,\n",
      "                   dsn=path_adminBound+'/'+shapeFileName,\n",
      "                   output=shapeFileName[:-4])\n",
      "\n",
      "grass.read_command('v.to.rast', overwrite=True,quiet=True,\n",
      "                   input=shapeFileName[:-4],\n",
      "                   use='val',\n",
      "                   output='mdg_rasterMask',\n",
      "                   value=1)\n",
      "\n",
      "test = raster.mapcalc('output_composite_clip = if($mdg_rasterMask, $composite)', mdg_rasterMask= 'mdg_rasterMask', \n",
      "                      composite='composite')\n",
      "grass.read_command('r.out.gdal', overwrite=True,quiet=False,\n",
      "                   input='output_composite_clip',\n",
      "                   output=path_results+output_composite_clip+'.tiff')"
     ],
     "language": "python",
     "metadata": {},
     "outputs": [
      {
       "metadata": {},
       "output_type": "pyout",
       "prompt_number": 7,
       "text": [
        "''"
       ]
      }
     ],
     "prompt_number": 7
    },
    {
     "cell_type": "code",
     "collapsed": false,
     "input": [
      "grass.read_command(\"r.proj\", overwrite = True, quiet = True,\n",
      "                       input = 'output_composite_clip',\n",
      "                       location = location_raw,\n",
      "                       mapset=mapset,\n",
      "                       output=dgm_proj)"
     ],
     "language": "python",
     "metadata": {},
     "outputs": [
      {
       "metadata": {},
       "output_type": "pyout",
       "prompt_number": 8,
       "text": [
        "''"
       ]
      }
     ],
     "prompt_number": 8
    },
    {
     "cell_type": "heading",
     "level": 4,
     "metadata": {},
     "source": [
      "Retrieve terrain parameter slope based on DEM"
     ]
    },
    {
     "cell_type": "code",
     "collapsed": false,
     "input": [
      "slopeName = dgm_proj+'_slope'\n",
      "grass.read_command(\"r.slope.aspect\", overwrite=True, quiet=True,\n",
      "                   elevation = dgm_proj,\n",
      "                   slope=slopeName)\n",
      "\n",
      "slope_calc1 = raster.mapcalc(\"slope_calc1=($slopeName*1.570796)/8100\",slopeName=slopeName)\n",
      "\n",
      "slope_tan = raster.mapcalc(\"slope_calctan=if($slope_calc1>0,tan($slope_calc1),0.001)\",slope_calc1=\"slope_calc1\")\n",
      "print grass.raster_info('slope_calctan')"
     ],
     "language": "python",
     "metadata": {},
     "outputs": [
      {
       "output_type": "stream",
       "stream": "stdout",
       "text": [
        "{'north': -11.94875, 'timestamp': '\"none\"', 'min': 3.74796950521716e-07, 'datatype': 'DCELL', 'max': 0.001, 'ewres': 0.0008333333333333334, 'vertical_datum': '', 'west': 43.1881944444444, 'units': '', 'title': ' (slope_calctan)', 'east': 50.4865277777778, 'nsres': 0.0008333333333333334, 'south': -25.60625}\n"
       ]
      }
     ],
     "prompt_number": 9
    },
    {
     "cell_type": "heading",
     "level": 4,
     "metadata": {},
     "source": [
      "Retrieve accumulation flow map based on DEM"
     ]
    },
    {
     "cell_type": "code",
     "collapsed": false,
     "input": [
      "grass.read_command(\"r.watershed\",overwrite=True, quiet=True,\n",
      "                   elevation = dgm_proj,\n",
      "                   accumulation = \"accumFlow\",\n",
      "                   threshold=50000,\n",
      "                   flags=\"m\")\n",
      "print grass.raster_info('accumFlow')"
     ],
     "language": "python",
     "metadata": {},
     "outputs": [
      {
       "output_type": "stream",
       "stream": "stdout",
       "text": [
        "{'north': -11.94875, 'timestamp': '\"none\"', 'min': -7344353.0, 'datatype': 'DCELL', 'max': 7342698.0, 'ewres': 0.0008333333333333334, 'vertical_datum': '', 'west': 43.1881944444444, 'units': '', 'title': 'Watershed accumulation: overland flow that traverses each cell (accumFlow)', 'east': 50.4865277777778, 'nsres': 0.0008333333333333334, 'south': -25.60625}\n"
       ]
      }
     ],
     "prompt_number": 10
    },
    {
     "cell_type": "heading",
     "level": 4,
     "metadata": {},
     "source": [
      "Caluclate Upslope Contributing Area"
     ]
    },
    {
     "cell_type": "code",
     "collapsed": false,
     "input": [
      "UCA = raster.mapcalc(\"UCA=($accumFlow+1)*90\", accumFlow=\"accumFlow\")\n",
      "print grass.raster_info('UCA')"
     ],
     "language": "python",
     "metadata": {},
     "outputs": [
      {
       "output_type": "stream",
       "stream": "stdout",
       "text": [
        "{'north': -11.94875, 'timestamp': '\"none\"', 'min': -660991680.0, 'datatype': 'DCELL', 'max': 660842910.0, 'ewres': 0.0008333333333333334, 'vertical_datum': '', 'west': 43.1881944444444, 'units': '', 'title': ' (UCA)', 'east': 50.4865277777778, 'nsres': 0.0008333333333333334, 'south': -25.60625}\n"
       ]
      }
     ],
     "prompt_number": 11
    },
    {
     "cell_type": "heading",
     "level": 4,
     "metadata": {},
     "source": [
      "Calculate Topographic Wetness Index - Formula TWI = ln(UCA/tan(slope))"
     ]
    },
    {
     "cell_type": "code",
     "collapsed": false,
     "input": [
      "TWI = raster.mapcalc(\"TWI=log($UCA/$slope_calctan)\", UCA=\"UCA\", slope_calctan=\"slope_calctan\")\n",
      "print grass.raster_info('TWI')"
     ],
     "language": "python",
     "metadata": {},
     "outputs": [
      {
       "output_type": "stream",
       "stream": "stdout",
       "text": [
        "{'north': -11.94875, 'timestamp': '\"none\"', 'min': 12.1007121298723, 'datatype': 'DCELL', 'max': 35.0863637319438, 'ewres': 0.0008333333333333334, 'vertical_datum': '', 'west': 43.1881944444444, 'units': '', 'title': ' (TWI)', 'east': 50.4865277777778, 'nsres': 0.0008333333333333334, 'south': -25.60625}\n"
       ]
      }
     ],
     "prompt_number": 12
    },
    {
     "cell_type": "heading",
     "level": 4,
     "metadata": {},
     "source": [
      "Normalize Topographic Wetness Index"
     ]
    },
    {
     "cell_type": "code",
     "collapsed": false,
     "input": [
      "vals = grass.raster_info('TWI').values()\n",
      "minVal = vals[2]\n",
      "maxVal = vals[4]\n",
      "dataRange = [normalize_min,normalize_max]\n",
      "\n",
      "TWI_normalized = raster.mapcalc('TWI_normalized=$dataRangeMin+($TWI - $minVal)*($dataRangeMax-$dataRangeMin)/($maxVal-$minVal)',\n",
      "                                dataRangeMin=dataRange[0],\n",
      "                                TWI='TWI',\n",
      "                                maxVal=maxVal,\n",
      "                                minVal=minVal,\n",
      "                                dataRangeMax=dataRange[1])\n",
      "print grass.raster_info('TWI_normalized')"
     ],
     "language": "python",
     "metadata": {},
     "outputs": [
      {
       "output_type": "stream",
       "stream": "stdout",
       "text": [
        "{'north': -11.94875, 'timestamp': '\"none\"', 'min': -1.20303515418017e-12, 'datatype': 'DCELL', 'max': 1.00000000000191, 'ewres': 0.0008333333333333334, 'vertical_datum': '', 'west': 43.1881944444444, 'units': '', 'title': ' (TWI_normalized)', 'east': 50.4865277777778, 'nsres': 0.0008333333333333334, 'south': -25.60625}\n"
       ]
      }
     ],
     "prompt_number": 13
    },
    {
     "cell_type": "heading",
     "level": 4,
     "metadata": {},
     "source": [
      "Save TWI output"
     ]
    },
    {
     "cell_type": "code",
     "collapsed": false,
     "input": [
      "grass.read_command('r.out.gdal', overwrite=True,quiet=False,\n",
      "                   input='TWI_normalized',\n",
      "                   output=path_results+'TWI_normalized.tiff')"
     ],
     "language": "python",
     "metadata": {},
     "outputs": [
      {
       "metadata": {},
       "output_type": "pyout",
       "prompt_number": 14,
       "text": [
        "''"
       ]
      }
     ],
     "prompt_number": 14
    }
   ],
   "metadata": {}
  }
 ]
}