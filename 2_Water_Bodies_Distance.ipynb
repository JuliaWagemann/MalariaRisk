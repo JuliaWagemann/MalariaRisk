{
 "metadata": {
  "name": "",
  "signature": "sha256:503aaac81280231b55497ccc717641794bf066a9d135d4e5152d5cc348b4c2f0"
 },
 "nbformat": 3,
 "nbformat_minor": 0,
 "worksheets": [
  {
   "cells": [
    {
     "cell_type": "heading",
     "level": 2,
     "metadata": {},
     "source": [
      "Use QGIS and GDAL to create water bodies distance images"
     ]
    },
    {
     "cell_type": "markdown",
     "metadata": {},
     "source": [
      "**QGIS** (previously known as \"Quantum GIS\") is a cross-platform free and open-source desktop geographic information system (GIS) application that provides data viewing, editing, and analysis capabilities."
     ]
    },
    {
     "cell_type": "markdown",
     "metadata": {},
     "source": [
      "**GDAL** (Geospatial Data Abstraction Library) is a library for reading and writing raster geospatial data formats.\n",
      "\n",
      "**OGR** library, which is part of the GDAL source tree, provides a similar capability for simple features vector data."
     ]
    },
    {
     "cell_type": "markdown",
     "metadata": {},
     "source": [
      "This documentation helps you to setup your (I)Python environment in order to create a water bodies proximity distance image from three shapefiles:\n",
      "- A *boundaries* shapefile\n",
      "- A *lines* shapefile, containing vector data about water bodies with a line shape (rivers,...)\n",
      "- An *areas* shapefile, containing vector data about water bodies with an area shape (lakes,...)\n",
      "\n",
      "All of these shapefiles are available for download at http://www.diva-gis.org/\n",
      "\n"
     ]
    },
    {
     "cell_type": "heading",
     "level": 3,
     "metadata": {},
     "source": [
      "1. Download and install QGIS and GDAL"
     ]
    },
    {
     "cell_type": "markdown",
     "metadata": {},
     "source": [
      "**QGIS** can be downloaded [here](https://www.qgis.org/en/site/forusers/download.html), follow the instructions on the website to install **QGIS** on the OS you are working on.\n",
      "\n",
      "**GDAL** package for Python can be installed with *pip* by running on the command prompt/terminal the following line: *python -m pip install gdal*\n",
      "\n",
      "Otherwise, download **GDAL** and **GDAL** python bindings from [here](\n",
      "http://www.gisinternals.com/release.php)\n",
      "\n",
      "Then add the environment variable: \n",
      "- **GDAL_DATA** = C:\\Program Files (x86)\\GDAL\\gdal-data\n",
      "\n",
      "*Note: replace C:\\Program Files (x86)\\GDAL with the installation path of GDAL*"
     ]
    },
    {
     "cell_type": "heading",
     "level": 3,
     "metadata": {},
     "source": [
      "2. Set environment variables"
     ]
    },
    {
     "cell_type": "markdown",
     "metadata": {},
     "source": [
      "In order to use this script, some environment variables has to be set on the system.\n",
      "\n",
      "Under Windows, you can change the environment variables via \"Control Panel\\System and Security\\System\" and then go to Advanced System Settings in the left panel. Go to Environment Variables.\n",
      "\n",
      "Set under User variables the following entry:\n",
      "\n",
      "- **PYTHONPATH** = C:\\Program Files (x86)\\QGIS Wien\\apps\\qgis\\python;C:\\Program Files (x86)\\QGIS Wien\\apps\\Python27\\Lib\\site-packages\n",
      "\n",
      "Add to the **PATH** environment variable the following entries: *C:\\Program Files (x86)\\QGIS Wien\\apps\\qgis\\bin;C:\\Program Files (x86)\\QGIS Wien\\bin* , or just run the following command in the command prompt: \n",
      "\n",
      "set PATH = C:\\Program Files (x86)\\QGIS Wien\\apps\\qgis\\bin;C:\\Program Files (x86)\\QGIS Wien\\bin;%PATH%\n",
      "\n",
      "*Note: replace C:\\Program Files (x86)\\QGIS Wien with the installation path of QGIS. *\n",
      "\n",
      "If you are working on another OS, you can visit [this](http://docs.qgis.org/testing/en/docs/pyqgis_developer_cookbook/intro.html#running-custom-applications) page for more information."
     ]
    },
    {
     "cell_type": "heading",
     "level": 3,
     "metadata": {},
     "source": [
      "3.  STEP #0: Set up paths, working directory inside IPython"
     ]
    },
    {
     "cell_type": "markdown",
     "metadata": {},
     "source": [
      "Before running the first cell you have to set the following lines:\n",
      "- Enter */lib /Frameworks /python *and other path folders as arguments of *sys.path.append* lines (if they are present, else comment these lines).\n",
      "\n",
      "- Set *executables_path* to your OS's */bin* folder (only for Linux and Mac OS x).\n",
      "\n",
      "- Set *wd* to your working directory, i.e. where your input files are stored and where your output files will be saved.\n",
      "\n",
      "- Set *country* to the country or zone name you are analyzing, this serves only as a prefix for the names of the files in output.\n",
      "\n",
      "- Set *QgsApplication.setPrefixPath* to your QGIS prefix path, to locate this path, open your QGIS application, go to View -> Panels -> Log Messages -> General and locate the prefix path in the window.\n",
      "\n",
      "- Run the first cell."
     ]
    },
    {
     "cell_type": "code",
     "collapsed": false,
     "input": [
      "import sys\n",
      "import os\n",
      "\n",
      "#QGIS & executables paths(required)\n",
      "#sys.path.append('/Applications/QGIS.app/Contents/MacOS/lib/')\n",
      "#sys.path.append('/Applications/QGIS.app/Contents/Frameworks/')\n",
      "#sys.path.append('/Applications/QGIS.app/Contents/Resources/python/')\n",
      "#executables_path = '/usr/local/bin/'\n",
      "sys.path.append('C:\\Program Files (x86)\\QGIS Wien\\lib')\n",
      "sys.path.append('C:\\Program Files (x86)\\QGIS Wien\\apps')\n",
      "sys.path.append('C:\\Program Files (x86)\\QGIS Wien\\apps\\qgis\\python')\n",
      "#executables_path = 'C:/Program Files (x86)/QGIS Wien/bin'\n",
      "sys.path.append('C:\\Program Files (x86)\\QGIS Wien\\apps\\qgis\\bin')\n",
      "sys.path.append('C:\\Program Files (x86)\\QGIS Wien\\ ')\n",
      "sys.path.append('C:\\Program Files (x86)\\QGIS Wien\\apps\\qgis')\n",
      "\n",
      "#Set working directory(Output files location)\n",
      "#wd = '/Users/Alex/Ipython_Notebook_Working/script/'\n",
      "wd = 'C:/Alex/script/'\n",
      "\n",
      "os.chdir(wd)\n",
      "\n",
      "import qgis\n",
      "import gdal\n",
      "from PyQt4.QtCore import QFileInfo,QSettings\n",
      "from qgis.analysis import QgsRasterCalculator, QgsRasterCalculatorEntry\n",
      "from qgis.core import *\n",
      "import qgis.utils\n",
      "\n",
      "\n",
      "#Country name(for output filenames)\n",
      "country = 'MDG'\n",
      "\n",
      "#QGIS path(required)\n",
      "#QgsApplication.setPrefixPath('/Applications/QGIS.app/Contents/MacOS',True)\n",
      "QgsApplication.setPrefixPath('C:/PROGRA~2/QGISWI~1/apps/qgis', True)\n",
      "QgsApplication.initQgis()\n"
     ],
     "language": "python",
     "metadata": {},
     "outputs": [],
     "prompt_number": 1
    },
    {
     "cell_type": "heading",
     "level": 3,
     "metadata": {},
     "source": [
      "#STEP #1: Project Shapefiles"
     ]
    },
    {
     "cell_type": "markdown",
     "metadata": {},
     "source": [
      "In order to work with *meters* as a distance unit (instead of *degrees*) we need to reproject the input shapefiles to another coordinate system.\n",
      "\n",
      "To do this do the following:\n",
      "\n",
      "- Set *areas, lines, borders* variables to the filenames of your input shapefiles.\n",
      "\n",
      "- Set *output_projection_code* to the code of the new coordinate system to use.\n",
      "\n",
      "- Run the second cell.\n",
      "\n",
      "**Output**: *country_areas.shp, country_lines.shp, country_borders.shp*"
     ]
    },
    {
     "cell_type": "code",
     "collapsed": false,
     "input": [
      "#Project shapefiles\n",
      "\n",
      "#Input filenames & proj_code\n",
      "areas = 'P:/3_Malaria_Risk/1_Data/2_Inland_water_bodies/MDG_wat/MDG_water_areas_dcw.shp'\n",
      "lines = 'P:/3_Malaria_Risk/1_Data/2_Inland_water_bodies/MDG_wat/MDG_water_lines_dcw.shp'\n",
      "borders = 'P:/3_Malaria_Risk/1_Data/5_Admin_Boundaries/MDG_adm/MDG_adm0.shp'\n",
      "output_projection_code = 'EPSG:32738'\n",
      "rasterized_size = '7500'\n",
      "\n",
      "proj_areas = country + '_areas.shp'\n",
      "proj_lines = country + '_lines.shp'\n",
      "proj_borders = country + '_borders.shp'\n",
      "commandProjectAreas = 'ogr2ogr -overwrite -t_srs ' + output_projection_code + ' ' + proj_areas + ' ' + areas\n",
      "commandProjectLines = 'ogr2ogr -overwrite -t_srs ' + output_projection_code + ' ' + proj_lines + ' ' + lines\n",
      "commandProjectBorders = 'ogr2ogr -overwrite -t_srs ' + output_projection_code + ' ' + proj_borders + ' ' + borders\n",
      "\n",
      "os.system(commandProjectAreas)\n",
      "os.system(commandProjectLines)\n",
      "os.system(commandProjectBorders)\n"
     ],
     "language": "python",
     "metadata": {},
     "outputs": [
      {
       "metadata": {},
       "output_type": "pyout",
       "prompt_number": 2,
       "text": [
        "0"
       ]
      }
     ],
     "prompt_number": 2
    },
    {
     "cell_type": "heading",
     "level": 3,
     "metadata": {},
     "source": [
      "STEP #2: Shapefile to Raster"
     ]
    },
    {
     "cell_type": "markdown",
     "metadata": {},
     "source": [
      "In order to calculate the distance to water bodies we need to transform the *lines *and *areas* shapefiles into rasters.\n",
      "\n",
      "To do this, just be sure to set the *rasterized_size* to the resolution(in pixels) of the output rasters. Run the cell then.\n",
      "\n",
      "Note: Since different shapefiles produce different images size we use the rasters in output to calculate the union extent of the two images, we will need this later, otherwise we will get just an intersection of the two images (less information).\n",
      "\n",
      "If you already know the extent coordinates of the two images you can simply skip this step and run over **STEP #3**\n",
      "\n",
      "**Output**: *country_lines_size.tif, country_areas_size.tif*\n"
     ]
    },
    {
     "cell_type": "code",
     "collapsed": false,
     "input": [
      "#PART 0: Rasterize and find coordinates(if not in input)\n",
      "#Commands\n",
      "#gdal_rasterize_path=executables_path+'gdal_rasterize '\n",
      "burn_WHITE ='-burn 255 -burn 255 -burn 255 '\n",
      "#rasterized_size='7500'\n",
      "input_name1 = country + '_lines'\n",
      "print(input_name1)\n",
      "output_name1=input_name1+'_rasterized_'+rasterized_size+'.tif'\n",
      "\n",
      "#Generate Raster Lines\n",
      "print(os.system('gdal_rasterize ' + burn_WHITE + '-ts ' + rasterized_size +' '+ rasterized_size + ' -l ' + input_name1 +' '+ input_name1 +'.shp '+ output_name1))\n",
      "\n",
      "input_name2 = country + '_areas'\n",
      "output_name2 = input_name2+'_rasterized_'+rasterized_size+'.tif'\n",
      "\n",
      "\n",
      "#Generate Raster Areas\n",
      "print(os.system('gdal_rasterize ' + burn_WHITE + '-ts ' + rasterized_size +' '+ rasterized_size + ' -l ' + input_name2 +' '+ input_name2 +'.shp '+ output_name2))\n",
      "\n",
      "\n",
      "fileInfo1 = QFileInfo(output_name1)\n",
      "baseName1 = fileInfo1.baseName()\n",
      "test_layer1 = QgsRasterLayer(output_name1)\n",
      "fileInfo2 = QFileInfo(output_name2)\n",
      "baseName2 = fileInfo2.baseName()\n",
      "test_layer2 = QgsRasterLayer(output_name2, baseName2)\n",
      "rect= QgsRectangle(test_layer2.extent())\n",
      "rect.combineExtentWith(test_layer1.extent())\n",
      "x_min=rect.xMinimum()\n",
      "x_max=rect.xMaximum()\n",
      "y_min=rect.yMinimum()\n",
      "y_max=rect.yMaximum()"
     ],
     "language": "python",
     "metadata": {},
     "outputs": [
      {
       "output_type": "stream",
       "stream": "stdout",
       "text": [
        "MDG_lines\n",
        "0"
       ]
      },
      {
       "output_type": "stream",
       "stream": "stdout",
       "text": [
        "\n",
        "0"
       ]
      },
      {
       "output_type": "stream",
       "stream": "stdout",
       "text": [
        "\n"
       ]
      }
     ],
     "prompt_number": 3
    },
    {
     "cell_type": "heading",
     "level": 3,
     "metadata": {},
     "source": [
      "STEP #3: Shapefile to Raster (again..)"
     ]
    },
    {
     "cell_type": "markdown",
     "metadata": {},
     "source": [
      "If you ran the previous cell, just run the following one to overwrite the previous rasters.\n",
      "\n",
      "The new rasters will have the extent of the union of the previous rasters.\n",
      "\n",
      "Else, if you didn't run the previous cell, uncomment lines from *xmin* to *burn_WHITE* and set the coordinates and the rasterized_size, then, run the cell.\n",
      "\n",
      "**Output**: *country_lines_size.tif, country_areas_size.tif*"
     ]
    },
    {
     "cell_type": "code",
     "collapsed": false,
     "input": [
      "#PART 1: Rasterize\n",
      "#set input(required if PART 0 has been skipped, else comment)\n",
      "#xmin=\n",
      "#ymin=\n",
      "#xmax=\n",
      "#ymax=\n",
      "#rasterized_size='7500'\n",
      "#gdal_rasterize_path=executables_path+'gdal_rasterize '\n",
      "#burn_WHITE='-burn 255 -burn 255 -burn 255 '\n",
      "\n",
      "\n",
      "input_name1 = country + '_lines'\n",
      "output_name1=input_name1+'_rasterized_'+rasterized_size+'.tif'\n",
      "os.system('gdal_rasterize ' + burn_WHITE + '-te '+str(x_min) + ' ' + str(y_min) + ' ' + str(x_max) + ' ' + str(y_max) + ' ' + '-ts ' + rasterized_size +' '+ rasterized_size + ' -l ' + input_name1 +' '+ input_name1 +'.shp '+ output_name1)\n",
      "\n",
      "\n",
      "input_name2 = country + '_areas'\n",
      "output_name2 = input_name2+'_rasterized_'+rasterized_size+'.tif'\n",
      "os.system('gdal_rasterize ' + burn_WHITE + '-te '+str(x_min) + ' ' + str(y_min) + ' ' + str(x_max) + ' ' + str(y_max) + ' ' + '-ts ' + rasterized_size +' '+ rasterized_size + ' -l ' + input_name2 +' '+ input_name2 +'.shp '+ output_name2)\n"
     ],
     "language": "python",
     "metadata": {},
     "outputs": [
      {
       "metadata": {},
       "output_type": "pyout",
       "prompt_number": 4,
       "text": [
        "0"
       ]
      }
     ],
     "prompt_number": 4
    },
    {
     "cell_type": "heading",
     "level": 3,
     "metadata": {},
     "source": [
      "STEP #4: Water_areas OR Water_lines? Water_bodies!"
     ]
    },
    {
     "cell_type": "markdown",
     "metadata": {},
     "source": [
      "In this cell we have to merge the rasters to combine the rivers locations with the lakes locations to have a single image containing all the water bodies.\n",
      "\n",
      "To do this, just run the cell.\n",
      "\n",
      "**Output**: *country_Lines_OR_Areas_size.tif*"
     ]
    },
    {
     "cell_type": "code",
     "collapsed": false,
     "input": [
      "#PART 2: Water_areas OR Water_lines\n",
      "entries = []\n",
      "\n",
      "\n",
      "# Load Layers\n",
      "fileInfo1 = QFileInfo(output_name1)\n",
      "baseName1 = fileInfo1.baseName()\n",
      "rlayer1 = QgsRasterLayer(output_name1,baseName1)\n",
      "fileInfo2 = QFileInfo(output_name2)\n",
      "baseName2 = fileInfo2.baseName()\n",
      "rlayer2 = QgsRasterLayer(output_name2, baseName2)\n",
      "\n",
      "entry1 = QgsRasterCalculatorEntry()\n",
      "entry1.ref = baseName1+'@1'\n",
      "entry1.raster = rlayer1\n",
      "entry1.bandNumber = 1\n",
      "entries.append(entry1)\n",
      "\n",
      "entry2 = QgsRasterCalculatorEntry()\n",
      "entry2.ref = baseName2+'@1'\n",
      "entry2.raster = rlayer2\n",
      "entry2.bandNumber = 1\n",
      "entries.append(entry2)\n",
      "\n",
      "# Process calculation \n",
      "expression='('+baseName1+'@1 > 0) OR '+'('+baseName2+'@1 >0)'\n",
      "#print(expression)\n",
      "output_OR = country + '_Lines_OR_Areas_' + rasterized_size + '.tif'\n",
      "calc = QgsRasterCalculator(expression, output_OR, 'GTiff', rlayer1.extent(), int(rasterized_size), int(rasterized_size), entries)\n",
      "calc.processCalculation()"
     ],
     "language": "python",
     "metadata": {},
     "outputs": [
      {
       "metadata": {},
       "output_type": "pyout",
       "prompt_number": 5,
       "text": [
        "0"
       ]
      }
     ],
     "prompt_number": 5
    },
    {
     "cell_type": "heading",
     "level": 3,
     "metadata": {},
     "source": [
      "STEP #5: Calculate Distance"
     ]
    },
    {
     "cell_type": "markdown",
     "metadata": {},
     "source": [
      "To calculate the distance from every pixel of our raster to the nearest water body, we need to choose which distance unit we want to use, to do this set the *distunits* variable to one of the following values:\n",
      "\n",
      "- **GEO** (default): to calculate the distance in georeferenced units (meters in our case)\n",
      "- **PIXEL**: to calculate the distance in PIXEL units\n",
      "\n",
      "Run the cell.\n",
      "\n",
      "**Output**: *country_Distance_size.tif*"
     ]
    },
    {
     "cell_type": "code",
     "collapsed": false,
     "input": [
      "#PART 3: Calculate Distance\n",
      "#gdal_proximity_path = executables_path + 'gdal_proximity.py'\n",
      "distunits = 'GEO'\n",
      "\n",
      "output_distance = country + '_Distance_' + rasterized_size + '.tif'\n",
      "command3 = 'gdal_proximity.py' + ' ' + output_OR + ' ' + output_distance + ' -distunits ' + distunits + ' -of GTiff'\n",
      "#os.system(\"/usr/local/bin/gdal_proximity.py /Users/Alex/Ipython_Notebook_Working/script/MDG_Lines_OR_Areas.tif /Users/Alex/Ipython_Notebook_Working/script/Distance.tif -distunits GEO -of GTiff\")\n",
      "os.system(command3)"
     ],
     "language": "python",
     "metadata": {},
     "outputs": [
      {
       "metadata": {},
       "output_type": "pyout",
       "prompt_number": 6,
       "text": [
        "0"
       ]
      }
     ],
     "prompt_number": 6
    },
    {
     "cell_type": "heading",
     "level": 3,
     "metadata": {},
     "source": [
      "STEP #6: Clip the image and set the waterbodies pixels to NaN"
     ]
    },
    {
     "cell_type": "markdown",
     "metadata": {},
     "source": [
      "In this step the script will clip the image over the country boundaries and will set every pixel containing a water body to NaN.\n",
      "\n",
      "Run the final cell.\n",
      "\n",
      "**Output**: *country_Clipped_Distance_size.tif*"
     ]
    },
    {
     "cell_type": "code",
     "collapsed": false,
     "input": [
      "#PART 4: Clip Boundaries\n",
      "#gdal_warp_path = executables_path + 'gdalwarp'\n",
      "\n",
      "output_clipped_distance = country + '_Clipped_Distance_' + rasterized_size + '.tif'\n",
      "command4 = 'gdalwarp' + ' -overwrite -dstnodata 0 -q -cutline ' + proj_borders + ' -crop_to_cutline -of GTiff ' + output_distance + ' ' + output_clipped_distance\n",
      "os.system(command4)\n"
     ],
     "language": "python",
     "metadata": {},
     "outputs": [
      {
       "metadata": {},
       "output_type": "pyout",
       "prompt_number": 7,
       "text": [
        "0"
       ]
      }
     ],
     "prompt_number": 7
    },
    {
     "cell_type": "code",
     "collapsed": false,
     "input": [],
     "language": "python",
     "metadata": {},
     "outputs": []
    }
   ],
   "metadata": {}
  }
 ]
}