{
 "metadata": {
  "name": "",
  "signature": "sha256:cf792d77574e4edc8fe5d255e51a38efe5089c02ed402bae7a05657d2ecac596"
 },
 "nbformat": 3,
 "nbformat_minor": 0,
 "worksheets": [
  {
   "cells": [
    {
     "cell_type": "heading",
     "level": 2,
     "metadata": {},
     "source": [
      "ModelMap script"
     ]
    },
    {
     "cell_type": "code",
     "collapsed": false,
     "input": [
      "import IPython\n",
      "% reload_ext rpy2.ipython\n",
      "r = \"IPython.CodeCell.config_defaults.highlight_modes['magic_r'] = {'reg':[/^%%r/]};\""
     ],
     "language": "python",
     "metadata": {},
     "outputs": [],
     "prompt_number": 1
    },
    {
     "cell_type": "heading",
     "level": 3,
     "metadata": {},
     "source": [
      "Build raster Look up table(with GUI)"
     ]
    },
    {
     "cell_type": "code",
     "collapsed": false,
     "input": [
      "%%R\n",
      "library(ModelMap)\n",
      "setwd(\"C:/Alex/model2\")\n",
      "imglist = list.files(path = \"C:/Alex/model2\", full.names = TRUE, pattern = \"*.img\")\n",
      "print(imglist)\n",
      "build.rastLUT(imageList=imglist,predList=NULL,qdata.trainfn=NULL,\n",
      "rastLUTfn=NULL,folder=\"C:/Alex/model2\")\n"
     ],
     "language": "python",
     "metadata": {},
     "outputs": [],
     "prompt_number": 2
    },
    {
     "cell_type": "heading",
     "level": 3,
     "metadata": {},
     "source": [
      "Split input data into training + test data"
     ]
    },
    {
     "cell_type": "code",
     "collapsed": false,
     "input": [
      "%%R\n",
      "qdatafn = \"C:/Alex/model2/3kserioc.csv\"\n",
      "predList <- c(\"evaug\",\n",
      "              \"tempjanavg\",\n",
      "              \"evdec\",\n",
      "              \"tempapravg\",\n",
      "              \"apr_pdowns\",\n",
      "              \"praprmax\",\n",
      "              \"praugavg\",\n",
      "              \"praugmin\",\n",
      "              \"jul_pdowns\",\n",
      "              \"evfeb\",\n",
      "              \"precapravg\",\n",
      "              \"nov_pdowns\",\n",
      "              \"mis2011_2\",\n",
      "              \"mis2011_3\",\n",
      "              \"tempjanmax\"\n",
      ")\n",
      "            \n",
      "model.type <- \"RF\"\n",
      "\n",
      "get.test(0.5, qdatafn = \"C:/Alex/model2/3kserioc.csv\", seed = NULL, folder=NULL,\n",
      "qdata.trainfn = paste(strsplit(qdatafn, split = \".csv\")[[1]], \"_train.csv\", sep = \"\"),\n",
      "qdata.testfn = paste(strsplit(qdatafn, split = \".csv\")[[1]], \"_test.csv\", sep = \"\"))\n"
     ],
     "language": "python",
     "metadata": {},
     "outputs": [],
     "prompt_number": 3
    },
    {
     "cell_type": "heading",
     "level": 3,
     "metadata": {},
     "source": [
      "Set up model: training data, test data, predictors, model type, response name and type"
     ]
    },
    {
     "cell_type": "code",
     "collapsed": false,
     "input": [
      "%%R\n",
      "\n",
      "qdatafn <- \"C:/Alex/model2/3kserioc.csv\"\n",
      "qdata.trainfn <- \"C:/Alex/model2/3kserioc_train.csv\"\n",
      "qdata.testfn <- \"C:/Alex/model2/3kserioc_test.csv\"\n",
      "folder <- getwd()\n",
      "MODELfn.a <- \"3kserio_modello\"\n",
      "predList <- c(\"evaug\",\n",
      "              \"tempjanavg\",\n",
      "              \"evdec\",\n",
      "              \"tempapravg\",\n",
      "              \"apr_pdowns\",\n",
      "              \"praprmax\",\n",
      "              \"praugavg\",\n",
      "              \"praugmin\",\n",
      "              \"jul_pdowns\",\n",
      "              \"evfeb\",\n",
      "              \"precapravg\",\n",
      "              \"nov_pdowns\",\n",
      "              \"mis2011_2\",\n",
      "              \"mis2011_3\",\n",
      "              \"tempjanmax\"\n",
      ")\n",
      "predFactor <- FALSE\n",
      "model.type <- \"RF\"\n",
      "response.name.a <- \"mis2011_1\"\n",
      "response.type <- \"continuous\"\n",
      "seed.a <- 38\n",
      "unique.rowname <- \"ID\""
     ],
     "language": "python",
     "metadata": {},
     "outputs": [],
     "prompt_number": 4
    },
    {
     "cell_type": "heading",
     "level": 3,
     "metadata": {},
     "source": [
      "Build model"
     ]
    },
    {
     "cell_type": "code",
     "collapsed": false,
     "input": [
      "%%R\n",
      "model.obj.ex1a <- model.build( model.type=model.type,\n",
      "qdata.trainfn=qdata.trainfn,\n",
      "folder=folder,\n",
      "unique.rowname=unique.rowname,\n",
      "MODELfn=MODELfn.a,\n",
      "predList=predList,\n",
      "predFactor=predFactor,\n",
      "response.name=response.name.a,\n",
      "response.type=response.type,\n",
      "seed=seed.a)\n"
     ],
     "language": "python",
     "metadata": {},
     "outputs": [],
     "prompt_number": 5
    },
    {
     "cell_type": "heading",
     "level": 3,
     "metadata": {},
     "source": [
      "Create model diagnostics"
     ]
    },
    {
     "cell_type": "code",
     "collapsed": false,
     "input": [
      "%%R\n",
      "model.pred.ex1a <- model.diagnostics( model.obj=model.obj.ex1a,\n",
      "qdata.testfn=qdata.testfn,\n",
      "folder=folder,\n",
      "MODELfn=MODELfn.a,\n",
      "unique.rowname=unique.rowname,\n",
      "prediction.type=\"TEST\",\n",
      "device.type=c(\"pdf\"),\n",
      "cex=1.2)\n"
     ],
     "language": "python",
     "metadata": {},
     "outputs": [],
     "prompt_number": 6
    },
    {
     "cell_type": "heading",
     "level": 3,
     "metadata": {},
     "source": [
      "Make a map from the look up table and the model object"
     ]
    },
    {
     "cell_type": "code",
     "collapsed": false,
     "input": [
      "%%R\n",
      "\n",
      "rastLUTfn <- \"C:/Alex/model2/3kserioc_rastLUT.csv\"\n",
      "model.mapmake( model.obj=model.obj.ex1a,\n",
      "folder=folder,\n",
      "MODELfn=MODELfn.a,\n",
      "rastLUTfn=rastLUTfn,\n",
      "na.action=\"na.omit\",\n",
      "map.sd=TRUE)\n"
     ],
     "language": "python",
     "metadata": {},
     "outputs": [],
     "prompt_number": 7
    },
    {
     "cell_type": "code",
     "collapsed": false,
     "input": [],
     "language": "python",
     "metadata": {},
     "outputs": []
    }
   ],
   "metadata": {}
  }
 ]
}