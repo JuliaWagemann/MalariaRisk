{
 "metadata": {
  "name": "",
  "signature": "sha256:7f0f5bb92515582cce943268139171c3a0b84724857efb2a059ed9f651997907"
 },
 "nbformat": 3,
 "nbformat_minor": 0,
 "worksheets": [
  {
   "cells": [
    {
     "cell_type": "heading",
     "level": 2,
     "metadata": {},
     "source": [
      "Use of Google Earth Engine to retrieve NDVI, NDWI, (distance from max NDWI) images"
     ]
    },
    {
     "cell_type": "markdown",
     "metadata": {},
     "source": [
      "To run this script, follow the instructions to run Google Earth Engine with IPython, put *integrateGoogleMaps.ipynb* in the same folder of this notebook then:\n",
      "\n",
      "-  Set *wd* to your working directory, i.e. where your output files will be saved.\n",
      "-  Set *country_name* to the name of the country to be analyzed, this name is needed to retrieve boundaries from Google Fusion Tables"
     ]
    },
    {
     "cell_type": "code",
     "collapsed": false,
     "input": [
      "import ee\n",
      "from IPython.html import widgets\n",
      "from IPython.display import display\n",
      "from IPython.utils import traitlets\n",
      "from IPython.core.display import Javascript\n",
      "import os\n",
      "\n",
      "%run integrateGoogleMaps.ipynb\n",
      "#Set working directory\n",
      "wd = \"C:/Alex/script\"\n",
      "os.chdir(wd)\n",
      "\n",
      "#Set country name to retrieve boundaries from Google Fusion Tables\n",
      "country_name = 'Madagascar'\n",
      "\n",
      "#Set delete_temp to True if you want to automatically delete temporary files at the end of the script. \n",
      "delete_temp = False\n",
      "\n",
      "\n",
      "% reload_ext rpy2.ipython\n",
      "\n",
      "\n",
      "ee.Initialize()\n",
      "\n",
      "\n"
     ],
     "language": "python",
     "metadata": {},
     "outputs": []
    },
    {
     "cell_type": "code",
     "collapsed": false,
     "input": [
      "class GoogleMapsWidget(widgets.DOMWidget):\n",
      "    _view_name = traitlets.Unicode('GoogleMapsView', sync=True)\n",
      "    value = traitlets.Unicode(sync=True)\n",
      "    description = traitlets.Unicode(sync=True)\n",
      "    lat = traitlets.CFloat(0, help=\"Center latitude, -90 to 90\", sync=True)\n",
      "    lng = traitlets.CFloat(0, help=\"Center longitude, -180 to 180\", sync=True)\n",
      "    zoom = traitlets.CInt(0, help=\"Zoom level, 0 to ~25\", sync=True)\n",
      "    bounds = traitlets.List([], help=\"Visible bounds, [W, S, E, N]\", sync=True)\n",
      "    \n",
      "    def __init__(self, lng=0.0, lat=0.0, zoom=2):\n",
      "        self.lng = lng\n",
      "        self.lat = lat\n",
      "        self.zoom = zoom\n",
      "        \n",
      "    def addLayer(self, image, vis_params, name=None, visible=True):\n",
      "        mapid = image.getMapId(vis_params)\n",
      "        self.send({'command':'addLayer', 'mapid': mapid['mapid'], 'token': mapid['token'], 'name': name, 'visible': visible})\n",
      "        \n",
      "    def center(self, lng, lat, zoom=None):\n",
      "        self.send({'command': 'center', 'lng': lng, 'lat': lat, 'zoom': zoom})"
     ],
     "language": "python",
     "metadata": {},
     "outputs": []
    },
    {
     "cell_type": "code",
     "collapsed": false,
     "input": [
      "class GoogleMapsWidget(widgets.DOMWidget):\n",
      "    _view_name = traitlets.Unicode('GoogleMapsView', sync=True)\n",
      "    value = traitlets.Unicode(sync=True)\n",
      "    description = traitlets.Unicode(sync=True)\n",
      "    lat = traitlets.CFloat(0, help=\"Center latitude, -90 to 90\", sync=True)\n",
      "    lng = traitlets.CFloat(0, help=\"Center longitude, -180 to 180\", sync=True)\n",
      "    zoom = traitlets.CInt(0, help=\"Zoom level, 0 to ~25\", sync=True)\n",
      "    bounds = traitlets.List([], help=\"Visible bounds, [W, S, E, N]\", sync=True)\n",
      "    \n",
      "    def __init__(self, lng=0.0, lat=0.0, zoom=2):\n",
      "        self.lng = lng\n",
      "        self.lat = lat\n",
      "        self.zoom = zoom\n",
      "        \n",
      "    def addLayer(self, image, vis_params, name=None, visible=True):\n",
      "        mapid = image.getMapId(vis_params)\n",
      "        self.send({'command':'addLayer', 'mapid': mapid['mapid'], 'token': mapid['token'], 'name': name, 'visible': visible})\n",
      "        \n",
      "    def center(self, lng, lat, zoom=None):\n",
      "        self.send({'command': 'center', 'lng': lng, 'lat': lat, 'zoom': zoom})"
     ],
     "language": "python",
     "metadata": {},
     "outputs": []
    },
    {
     "cell_type": "code",
     "collapsed": false,
     "input": [
      "class GoogleMapsWidget(widgets.DOMWidget):\n",
      "    _view_name = traitlets.Unicode('GoogleMapsView', sync=True)\n",
      "    value = traitlets.Unicode(sync=True)\n",
      "    description = traitlets.Unicode(sync=True)\n",
      "    lat = traitlets.CFloat(0, help=\"Center latitude, -90 to 90\", sync=True)\n",
      "    lng = traitlets.CFloat(0, help=\"Center longitude, -180 to 180\", sync=True)\n",
      "    zoom = traitlets.CInt(0, help=\"Zoom level, 0 to ~25\", sync=True)\n",
      "    bounds = traitlets.List([], help=\"Visible bounds, [W, S, E, N]\", sync=True)\n",
      "    \n",
      "    def __init__(self, lng=0.0, lat=0.0, zoom=2):\n",
      "        self.lng = lng\n",
      "        self.lat = lat\n",
      "        self.zoom = zoom\n",
      "        \n",
      "    def addLayer(self, image, vis_params, name=None, visible=True):\n",
      "        mapid = image.getMapId(vis_params)\n",
      "        self.send({'command':'addLayer', 'mapid': mapid['mapid'], 'token': mapid['token'], 'name': name, 'visible': visible})\n",
      "        \n",
      "    def center(self, lng, lat, zoom=None):\n",
      "        self.send({'command': 'center', 'lng': lng, 'lat': lat, 'zoom': zoom})"
     ],
     "language": "python",
     "metadata": {},
     "outputs": []
    },
    {
     "cell_type": "code",
     "collapsed": false,
     "input": [
      "class GoogleMapsWidget(widgets.DOMWidget):\n",
      "    _view_name = traitlets.Unicode('GoogleMapsView', sync=True)\n",
      "    value = traitlets.Unicode(sync=True)\n",
      "    description = traitlets.Unicode(sync=True)\n",
      "    lat = traitlets.CFloat(0, help=\"Center latitude, -90 to 90\", sync=True)\n",
      "    lng = traitlets.CFloat(0, help=\"Center longitude, -180 to 180\", sync=True)\n",
      "    zoom = traitlets.CInt(0, help=\"Zoom level, 0 to ~25\", sync=True)\n",
      "    bounds = traitlets.List([], help=\"Visible bounds, [W, S, E, N]\", sync=True)\n",
      "    \n",
      "    def __init__(self, lng=0.0, lat=0.0, zoom=2):\n",
      "        self.lng = lng\n",
      "        self.lat = lat\n",
      "        self.zoom = zoom\n",
      "        \n",
      "    def addLayer(self, image, vis_params, name=None, visible=True):\n",
      "        mapid = image.getMapId(vis_params)\n",
      "        self.send({'command':'addLayer', 'mapid': mapid['mapid'], 'token': mapid['token'], 'name': name, 'visible': visible})\n",
      "        \n",
      "    def center(self, lng, lat, zoom=None):\n",
      "        self.send({'command': 'center', 'lng': lng, 'lat': lat, 'zoom': zoom})"
     ],
     "language": "python",
     "metadata": {},
     "outputs": []
    },
    {
     "cell_type": "code",
     "collapsed": false,
     "input": [
      "class GoogleMapsWidget(widgets.DOMWidget):\n",
      "    _view_name = traitlets.Unicode('GoogleMapsView', sync=True)\n",
      "    value = traitlets.Unicode(sync=True)\n",
      "    description = traitlets.Unicode(sync=True)\n",
      "    lat = traitlets.CFloat(0, help=\"Center latitude, -90 to 90\", sync=True)\n",
      "    lng = traitlets.CFloat(0, help=\"Center longitude, -180 to 180\", sync=True)\n",
      "    zoom = traitlets.CInt(0, help=\"Zoom level, 0 to ~25\", sync=True)\n",
      "    bounds = traitlets.List([], help=\"Visible bounds, [W, S, E, N]\", sync=True)\n",
      "    \n",
      "    def __init__(self, lng=0.0, lat=0.0, zoom=2):\n",
      "        self.lng = lng\n",
      "        self.lat = lat\n",
      "        self.zoom = zoom\n",
      "        \n",
      "    def addLayer(self, image, vis_params, name=None, visible=True):\n",
      "        mapid = image.getMapId(vis_params)\n",
      "        self.send({'command':'addLayer', 'mapid': mapid['mapid'], 'token': mapid['token'], 'name': name, 'visible': visible})\n",
      "        \n",
      "    def center(self, lng, lat, zoom=None):\n",
      "        self.send({'command': 'center', 'lng': lng, 'lat': lat, 'zoom': zoom})"
     ],
     "language": "python",
     "metadata": {},
     "outputs": []
    },
    {
     "cell_type": "heading",
     "level": 3,
     "metadata": {},
     "source": [
      "Earth Engine processing (Online)"
     ]
    },
    {
     "cell_type": "markdown",
     "metadata": {},
     "source": [
      "The following cell contains everything is needed to process the images online with Google Earth Engine.\n",
      "\n",
      "A download link is printed at the end of the cell containing the **NDVI** and the **NDWI** image of Madagascar.\n",
      "\n",
      "The resolution can be adjusted by editing the *scale* value, inside the *getDownloadUrl* methods."
     ]
    },
    {
     "cell_type": "code",
     "collapsed": false,
     "input": [
      "#Function to calculate NDVI from a single image, input:image, returns:image\n",
      "def NDVI(image):\n",
      "    ndvi = image.normalizedDifference(['B4', 'B3'])\n",
      "    #addBands() adds a band named 'nd'\n",
      "    image2 = image.addBands(ndvi)\n",
      "    return image2\n",
      "\n",
      "#Function to calculate NDWI from a single image, input:image, returns:image\n",
      "def NDWI(image3):\n",
      "    ndwi = image3.normalizedDifference(['B5', 'B4'])\n",
      "    #addBands() adds a band named 'nd'\n",
      "    image4 = image3.addBands(ndwi)\n",
      "    return image4\n",
      "\n",
      "#Function to clip a single image depending on country name, the fusion table contains all world countries boundaries, input:image, returns:image\n",
      "def clipping(image4):\n",
      "    polygon= ee.FeatureCollection('ft:1XULuZoTOzBNiIguwxpKddIqt04SJGzSoeAdGucg').filter(ee.Filter.eq('name_sort', country_name))\n",
      "    clipp = image4.clip(polygon)\n",
      "    return clipp\n",
      "\n",
      "#Load GMW on the Madagascar zone\n",
      "map = GoogleMapsWidget(lat=-20,lng=47,zoom=5)\n",
      "display(map)\n",
      "\n",
      "#Acquire images from Landsat 7, code:\"LE7\", to retrieve the other codes go on earth engine data catalog, enter the satellite name and retrieve \"ImageCollection ID\" \n",
      "imageCollection = ee.ImageCollection('LE7')\n",
      "polygon= ee.FeatureCollection('ft:1XULuZoTOzBNiIguwxpKddIqt04SJGzSoeAdGucg').filter(ee.Filter.eq('name_sort', country_name))\n",
      "img=imageCollection.filterBounds(polygon)\n",
      "imgfilter=(img.filterMetadata('CLOUD_COVER','less_than',15).filterDate('2011-01-01','2011-12-01'))\n",
      "\n",
      "#Apply the NDVI and clipping function to EVERY image in the imagecollection\n",
      "ndvi=imgfilter.map(NDVI)\n",
      "ndviclip=ndvi.map(clipping)\n",
      "\n",
      "\n",
      "#Visualization parameters to use in map.addLayer, we need this later\n",
      "vis_paramsndvi= {'bands': 'nd'}\n",
      "\n",
      "#mosaic the imagecollection\n",
      "ndvisel=ndviclip.select('nd')\n",
      "ndviclipmosaic=ndvisel.mosaic()\n",
      "\n",
      "#Repeat steps for NDWI\n",
      "ndwi=imgfilter.map(NDWI)\n",
      "ndwiclip=ndwi.map(clipping)\n",
      "ndwisel=ndwiclip.select('nd')\n",
      "ndwiclipmosaic=ndwisel.mosaic()\n",
      "vis_paramsndwi= {'bands': 'nd'}\n",
      "\n",
      "\n",
      "#DISTANCE\n",
      "#vis_paramsdistance= {'bands' : 'distance', 'min' : 0, 'max' : 1500000}\n",
      "\n",
      "#lat=0\n",
      "#lon=0\n",
      "#Scale the NDWI image and find the maximum value(without geocoordinates) through Reducer.max()\n",
      "#reducermapmax = ndwiclipmosaic.reduceRegion(ee.Reducer.max(), polygon, 780)\n",
      "#maxvalue=reducermapmax.get('nd').getInfo()\n",
      "#print(maxvalue)\n",
      "\n",
      "#Scale the NDWI image (same scale as the previous function) and retrieve a List: [[id,lon,lat,time,bandvalue],[...],[...]]\n",
      "#x = ee.ImageCollection([ndwiclipmosaic]).getRegion(polygon,780)\n",
      "\n",
      "#\"Flatten\" the list, that is, from [[id1,lon1,lat1,time1,bandvalue1],[id2,lon2,lat2,time2,bandvalue2],[...]]\n",
      "# to [id1,lon1,lat1,time1,bandvalue1,id2,lon2,lat2,time2,bandvalue2,........] for easier manipulation\n",
      "#flat = x.flatten()\n",
      "\n",
      "#retrieve maxvalue inside the flattened list\n",
      "#valueof = flat.indexOf(maxvalue).getInfo()\n",
      "\n",
      "#retrieve the geocoordinates of the maximum NDWI\n",
      "#lon = flat.get(valueof-3).getInfo()\n",
      "#lat = flat.get(valueof-2).getInfo()\n",
      "#print(lon)\n",
      "#print(lat)\n",
      "\n",
      "#Create a FeatureCollection containing a single Geometry point and create an image with the distance function\n",
      "#maxfc=ee.FeatureCollection([ee.Geometry.Point(lon,lat)])\n",
      "#dist=maxfc.distance(1500000)\n",
      "#distclip=dist.clip(polygon)\n",
      "\n",
      "\n",
      "#Visualize the results on the map\n",
      "#map.addLayer(distclip, vis_params=vis_paramsdistance,name=\"distanceFromMaxNDWI\")\n",
      "map.addLayer(ndviclipmosaic,vis_params=vis_paramsndvi,name=\"NDVI\")\n",
      "map.addLayer(ndwiclipmosaic, vis_params=vis_paramsndwi,name=\"NDWI\")\n",
      "\n",
      "\n",
      "#Get the download URLs of the images(scaled)\n",
      "#print(s)\n",
      "ndvidownload=ndviclipmosaic.getDownloadUrl({'scale':1000,'region': [[42.495 , -12.082], [51.196 ,-12.082], [42.495 , -26.431], [51.196,-26.431]] })\n",
      "ndwidownload=ndwiclipmosaic.getDownloadUrl({'scale':1000,'region': [[42.495 , -12.082], [51.196 ,-12.082], [42.495 , -26.431], [51.196,-26.431]] })\n",
      "#distancedownload=distclip.getDownloadUrl({'scale':3000,'region': [[42.495 , -12.082], [51.196 ,-12.082], [42.495 , -26.431], [51.196,-26.431]] , 'min' : 0, 'max' : 1500000, 'format' : 'jpeg'})\n",
      "\n",
      "print\n",
      "print(ndvidownload)\n",
      "print\n",
      "print(ndwidownload)\n",
      "print\n",
      "#print(distancedownload)\n"
     ],
     "language": "python",
     "metadata": {},
     "outputs": []
    },
    {
     "cell_type": "heading",
     "level": 3,
     "metadata": {},
     "source": [
      "GDAL processing (Offline)"
     ]
    },
    {
     "cell_type": "markdown",
     "metadata": {},
     "source": [
      "Since Earth Engine provides a rectangle image, we need to clip it with a boundaries shapefile.\n",
      "\n",
      "This script uses **GDAL** (*gdalwarp*) for this job."
     ]
    },
    {
     "cell_type": "markdown",
     "metadata": {},
     "source": [
      "First of all the script downloads the images from Earth Engine and saves them on the current working directory with the names *ndvi.zip* and *ndwi.zip*.\n",
      "\n",
      "Each zip file contains a .tif and a .tfw file, anyway, the zip file doesn't need to be extracted since **GDAL** can work with zip files.\n",
      "\n",
      "*Note*: Downloads from Earth Engine may be slow or corrupted sometimes. A filecheck may be needed."
     ]
    },
    {
     "cell_type": "code",
     "collapsed": false,
     "input": [
      "import urllib, urllib2\n",
      "ndvifile = urllib2.urlopen(ndvidownload)\n",
      "ndwifile = urllib2.urlopen(ndwidownload)\n",
      "infondvi = ndvifile.info()['Content-Disposition']\n",
      "infondwi = ndwifile.info()['Content-Disposition']\n",
      "ndvizip = infondvi.split(\"filename=\", 1)[1]\n",
      "ndwizip = infondwi.split(\"filename=\", 1)[1]\n",
      "\n",
      "resultndvi=urllib.URLopener().retrieve(ndvidownload, \"ndvi.zip\")\n",
      "resultndwi=urllib.URLopener().retrieve(ndwidownload, \"ndwi.zip\")\n",
      "\n",
      "#print(resultndvi)\n",
      "#print(resultndwi)"
     ],
     "language": "python",
     "metadata": {},
     "outputs": []
    },
    {
     "cell_type": "code",
     "collapsed": false,
     "input": [
      "ndviname = ndvizip.split(\".\")[0]\n",
      "ndwiname = ndwizip.split(\".\")[0]\n",
      "print(ndviname)\n",
      "print(ndwiname)\n"
     ],
     "language": "python",
     "metadata": {},
     "outputs": []
    },
    {
     "cell_type": "code",
     "collapsed": false,
     "input": [
      "shapefilepath = \"P:/3_Malaria_Risk/1_Data/5_Admin_Boundaries/MDG_adm/MDG_adm0.shp\"\n",
      "commandNdvi = \"gdalwarp -dstnodata 0 -q -cutline \" + shapefilepath + \" -crop_to_cutline -of GTiff /vsizip/\" + wd +  \"/ndvi.zip/\" + ndviname + \".nd.tif ndviclipped.tif\"\n",
      "commandNdwi = \"gdalwarp -dstnodata 0 -q -cutline \" + shapefilepath + \" -crop_to_cutline -of GTiff /vsizip/\" + wd + \"/ndwi.zip/\" + ndwiname + \".nd.tif ndwiclipped.tif\"\n",
      "os.system(commandNdvi)\n",
      "os.system(commandNdwi)"
     ],
     "language": "python",
     "metadata": {},
     "outputs": []
    },
    {
     "cell_type": "heading",
     "level": 3,
     "metadata": {},
     "source": [
      "SAGA processing(Offline)"
     ]
    },
    {
     "cell_type": "markdown",
     "metadata": {},
     "source": [
      "This is an alternative to **GDAL** since Earth Engine uses '0' for nodata pixels and '0' for some points inside the map. **GDAL** creates a map with nodata holes.\n",
      "\n",
      "This part of the script uses the combination of **QGIS** and its **Processing** plugin, together with **SAGA**."
     ]
    },
    {
     "cell_type": "code",
     "collapsed": false,
     "input": [
      "import zipfile\n",
      "\n",
      "with zipfile.ZipFile('ndvi.zip', \"r\") as vizip:\n",
      "    vizip.extractall(os.getcwd())\n",
      "with zipfile.ZipFile('ndwi.zip', \"r\") as wizip:\n",
      "    wizip.extractall(os.getcwd())\n"
     ],
     "language": "python",
     "metadata": {},
     "outputs": []
    },
    {
     "cell_type": "code",
     "collapsed": false,
     "input": [
      "import sys\n",
      "sys.path.append('C:\\Program Files (x86)\\QGIS Wien\\lib')\n",
      "sys.path.append('C:\\Program Files (x86)\\QGIS Wien\\apps')\n",
      "sys.path.append('C:\\Program Files (x86)\\QGIS Wien\\apps\\qgis\\python')\n",
      "sys.path.append('C:\\Program Files (x86)\\QGIS Wien\\apps\\qgis\\python\\plugins')\n",
      "sys.path.append('C:\\Program Files (x86)\\QGIS Wien\\apps\\qgis\\python\\plugins\\processing')\n",
      "import qgis\n",
      "from PyQt4.QtCore import QFileInfo,QSettings\n",
      "from qgis.analysis import QgsRasterCalculator, QgsRasterCalculatorEntry\n",
      "from qgis.core import *\n",
      "import qgis.utils\n",
      "QgsApplication.setPrefixPath('C:/PROGRA~2/QGISWI~1/apps/qgis', True)\n",
      "QgsApplication.initQgis()\n",
      "import os, glob\n",
      "from qgis.core import *\n",
      "from PyQt4.QtGui import *\n",
      "from qgis.core import * # qgis.core must be imported before PyQt4.QtGui!!!\n",
      "from PyQt4.QtGui import *\n",
      "app = QApplication([])\n",
      "import processing\n",
      "from processing.core.Processing import Processing\n",
      "Processing.initialize()\n",
      "from processing.tools import *"
     ],
     "language": "python",
     "metadata": {},
     "outputs": []
    },
    {
     "cell_type": "code",
     "collapsed": false,
     "input": [
      "shapefilepath = \"P:/3_Malaria_Risk/1_Data/5_Admin_Boundaries/MDG_adm/MDG_adm0.shp\"\n",
      "processing.runalg('saga:clipgridwithpolygon', ndviname+\".nd.tif\", shapefilepath, wd+\"/ndvi_sagaclip.tif\")\n",
      "processing.runalg('saga:clipgridwithpolygon', ndwiname+\".nd.tif\", shapefilepath, wd+\"/ndwi_sagaclip.tif\")"
     ],
     "language": "python",
     "metadata": {},
     "outputs": []
    },
    {
     "cell_type": "heading",
     "level": 3,
     "metadata": {},
     "source": [
      "(Optional) Remove zip files"
     ]
    },
    {
     "cell_type": "code",
     "collapsed": false,
     "input": [
      "if(delete_temp == True):\n",
      "    os.remove(wd+ \"/ndvi.zip\")\n",
      "    os.remove(wd+ \"/ndwi.zip\")"
     ],
     "language": "python",
     "metadata": {},
     "outputs": []
    },
    {
     "cell_type": "code",
     "collapsed": false,
     "input": [],
     "language": "python",
     "metadata": {},
     "outputs": []
    }
   ],
   "metadata": {}
  }
 ]
}