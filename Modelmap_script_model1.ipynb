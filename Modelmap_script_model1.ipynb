{
 "metadata": {
  "name": "",
  "signature": "sha256:c8a6c4a06d019e6949bef12bb38db8aae77ff0cd243b86aa31d62721ef78506d"
 },
 "nbformat": 3,
 "nbformat_minor": 0,
 "worksheets": [
  {
   "cells": [
    {
     "cell_type": "heading",
     "level": 2,
     "metadata": {},
     "source": [
      "ModelMap script"
     ]
    },
    {
     "cell_type": "code",
     "collapsed": false,
     "input": [
      "import IPython\n",
      "% reload_ext rpy2.ipython\n",
      "r = \"IPython.CodeCell.config_defaults.highlight_modes['magic_r'] = {'reg':[/^%%r/]};\""
     ],
     "language": "python",
     "metadata": {},
     "outputs": [],
     "prompt_number": 1
    },
    {
     "cell_type": "heading",
     "level": 3,
     "metadata": {},
     "source": [
      "Build raster Look up table(with GUI)"
     ]
    },
    {
     "cell_type": "code",
     "collapsed": false,
     "input": [
      "%%R\n",
      "library(ModelMap)\n",
      "setwd(\"P:/3_Malaria_Risk/4_RFModels/RF_1/ModelMap/\")\n",
      "\n"
     ],
     "language": "python",
     "metadata": {},
     "outputs": [],
     "prompt_number": 2
    },
    {
     "cell_type": "code",
     "collapsed": false,
     "input": [
      "%%R\n",
      "imglist = list.files(path = \"P:/3_Malaria_Risk/4_RFModels/RF_1/\", full.names = TRUE, pattern = \"*.img$\")\n",
      "print(imglist)\n",
      "build.rastLUT(imageList=imglist,predList=NULL,qdata.trainfn=NULL,\n",
      "rastLUTfn=NULL,folder=\"P:/3_Malaria_Risk/4_RFModels/RF_1/ModelMap/\")"
     ],
     "language": "python",
     "metadata": {},
     "outputs": []
    },
    {
     "cell_type": "heading",
     "level": 3,
     "metadata": {},
     "source": [
      "Split input data into training + test data"
     ]
    },
    {
     "cell_type": "code",
     "collapsed": false,
     "input": [
      "%%R\n",
      "qdatafn = \"P:/3_Malaria_Risk/4_RFModels/RF_1/ModelMap/10k_random_points_values.csv\"\n",
      "            \n",
      "model.type <- \"RF\"\n",
      "\n",
      "get.test(0.5, qdatafn = qdatafn, seed = NULL, folder=NULL,\n",
      "qdata.trainfn = paste(strsplit(qdatafn, split = \".csv\")[[1]], \"_train.csv\", sep = \"\"),\n",
      "qdata.testfn = paste(strsplit(qdatafn, split = \".csv\")[[1]], \"_test.csv\", sep = \"\"))\n"
     ],
     "language": "python",
     "metadata": {},
     "outputs": [],
     "prompt_number": 4
    },
    {
     "cell_type": "heading",
     "level": 3,
     "metadata": {},
     "source": [
      "Set up model: training data, test data, predictors, model type, response name and type"
     ]
    },
    {
     "cell_type": "code",
     "collapsed": false,
     "input": [
      "%%R\n",
      "\n",
      "qdatafn <- \"P:/3_Malaria_Risk/4_RFModels/RF_1/ModelMap/10k_random_points_values.csv\"\n",
      "qdata.trainfn <- \"P:/3_Malaria_Risk/4_RFModels/RF_1/ModelMap/10k_random_points_values_train.csv\"\n",
      "qdata.testfn <- \"P:/3_Malaria_Risk/4_RFModels/RF_1/ModelMap/10k_random_points_values_test.csv\"\n",
      "folder <- getwd()\n",
      "MODELfn.a <- \"Model1Prevalence\"\n",
      "predList <- c(\"WC_rmax\",\n",
      "              \"Ev0113min\",\n",
      "              \"Ev0113avg\",\n",
      "              \"ndvi_9814\",\n",
      "              \"MIS_IRS_11\",\n",
      "              \"WBdistance\",\n",
      "              \"TRM9814max\",\n",
      "              \"WC_rmean\",\n",
      "              \"TRM9814min\",\n",
      "              \"MIS_BN_11\",\n",
      "              \"TRM9814avg\",\n",
      "              \"ndwi_9814\",\n",
      "              \"Ev0113max\",\n",
      "              \"DEM\",\n",
      "              \"WC_rmin\",\n",
      "              \"TRM9814sum\",\n",
      "              \"PDENS_10\"\n",
      ")\n",
      "predFactor <- FALSE\n",
      "model.type <- \"RF\"\n",
      "response.name.a <- \"MIS_MAL_11\"\n",
      "response.type <- \"continuous\"\n",
      "seed.a <- 38\n",
      "unique.rowname <- \"ID\""
     ],
     "language": "python",
     "metadata": {},
     "outputs": [],
     "prompt_number": 6
    },
    {
     "cell_type": "heading",
     "level": 3,
     "metadata": {},
     "source": [
      "Build model"
     ]
    },
    {
     "cell_type": "code",
     "collapsed": false,
     "input": [
      "%%R\n",
      "model.obj.ex1a <- model.build( model.type=model.type,\n",
      "qdata.trainfn=qdata.trainfn,\n",
      "folder=folder,\n",
      "unique.rowname=unique.rowname,\n",
      "MODELfn=MODELfn.a,\n",
      "predList=predList,\n",
      "predFactor=predFactor,\n",
      "response.name=response.name.a,\n",
      "response.type=response.type,\n",
      "seed=seed.a)\n"
     ],
     "language": "python",
     "metadata": {},
     "outputs": [],
     "prompt_number": 7
    },
    {
     "cell_type": "heading",
     "level": 3,
     "metadata": {},
     "source": [
      "Create model diagnostics"
     ]
    },
    {
     "cell_type": "code",
     "collapsed": false,
     "input": [
      "%%R\n",
      "model.pred.ex1a <- model.diagnostics( model.obj=model.obj.ex1a,\n",
      "qdata.testfn=qdata.testfn,\n",
      "folder=folder,\n",
      "MODELfn=MODELfn.a,\n",
      "unique.rowname=unique.rowname,\n",
      "prediction.type=\"TEST\",\n",
      "device.type=c(\"pdf\"),\n",
      "cex=1.2)\n"
     ],
     "language": "python",
     "metadata": {},
     "outputs": [],
     "prompt_number": 8
    },
    {
     "cell_type": "heading",
     "level": 3,
     "metadata": {},
     "source": [
      "Make a map from the look up table and the model object"
     ]
    },
    {
     "cell_type": "code",
     "collapsed": false,
     "input": [
      "%%R\n",
      "\n",
      "rastLUTfn <- \"P:/3_Malaria_Risk/4_RFModels/RF_1/ModelMap/LUT_2013mapping_model1.csv\"\n",
      "model.mapmake( model.obj=model.obj.ex1a,\n",
      "folder=folder,\n",
      "MODELfn=MODELfn.a,\n",
      "rastLUTfn=rastLUTfn,\n",
      "na.action=\"na.omit\",\n",
      "map.sd=TRUE)\n"
     ],
     "language": "python",
     "metadata": {},
     "outputs": [],
     "prompt_number": 10
    },
    {
     "cell_type": "code",
     "collapsed": false,
     "input": [],
     "language": "python",
     "metadata": {},
     "outputs": []
    }
   ],
   "metadata": {}
  }
 ]
}