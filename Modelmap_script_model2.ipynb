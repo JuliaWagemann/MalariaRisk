{
 "metadata": {
  "name": "",
  "signature": "sha256:20e14ccab17ae1b9ebd9a532955388fba5bfa26e3dd211bdd4bfb1648c1ac932"
 },
 "nbformat": 3,
 "nbformat_minor": 0,
 "worksheets": [
  {
   "cells": [
    {
     "cell_type": "heading",
     "level": 2,
     "metadata": {},
     "source": [
      "ModelMap script"
     ]
    },
    {
     "cell_type": "code",
     "collapsed": false,
     "input": [
      "import IPython\n",
      "% reload_ext rpy2.ipython\n",
      "r = \"IPython.CodeCell.config_defaults.highlight_modes['magic_r'] = {'reg':[/^%%r/]};\""
     ],
     "language": "python",
     "metadata": {},
     "outputs": [],
     "prompt_number": 1
    },
    {
     "cell_type": "heading",
     "level": 3,
     "metadata": {},
     "source": [
      "Build raster Look up table(with GUI)"
     ]
    },
    {
     "cell_type": "code",
     "collapsed": false,
     "input": [
      "%%R\n",
      "library(ModelMap)\n",
      "setwd(\"P:/3_Malaria_Risk/4_RFModels/RF_2/ModelMap/\")\n"
     ],
     "language": "python",
     "metadata": {},
     "outputs": [],
     "prompt_number": 2
    },
    {
     "cell_type": "code",
     "collapsed": false,
     "input": [
      "%%R\n",
      "imglist = list.files(path = \"P:/3_Malaria_Risk/4_RFModels/RF_2/\", full.names = TRUE, pattern = \"*.img$\")\n",
      "print(imglist)\n",
      "build.rastLUT(imageList=imglist,predList=NULL,qdata.trainfn=NULL,\n",
      "rastLUTfn=NULL,folder=\"P:/3_Malaria_Risk/4_RFModels/RF_2/ModelMap/\")\n"
     ],
     "language": "python",
     "metadata": {},
     "outputs": []
    },
    {
     "cell_type": "heading",
     "level": 3,
     "metadata": {},
     "source": [
      "Split input data into training + test data"
     ]
    },
    {
     "cell_type": "code",
     "collapsed": false,
     "input": [
      "%%R\n",
      "qdatafn = \"P:/3_Malaria_Risk/4_RFModels/RF_2/ModelMap/10k_random_points_values.csv\"\n",
      "            \n",
      "model.type <- \"RF\"\n",
      "\n",
      "get.test(0.5, qdatafn = qdatafn, seed = NULL, folder=NULL,\n",
      "qdata.trainfn = paste(strsplit(qdatafn, split = \".csv\")[[1]], \"_train.csv\", sep = \"\"),\n",
      "qdata.testfn = paste(strsplit(qdatafn, split = \".csv\")[[1]], \"_test.csv\", sep = \"\"))\n"
     ],
     "language": "python",
     "metadata": {},
     "outputs": [],
     "prompt_number": 4
    },
    {
     "cell_type": "heading",
     "level": 3,
     "metadata": {},
     "source": [
      "Set up model: training data, test data, predictors, model type, response name and type"
     ]
    },
    {
     "cell_type": "code",
     "collapsed": false,
     "input": [
      "%%R\n",
      "\n",
      "qdatafn <- \"P:/3_Malaria_Risk/4_RFModels/RF_2/ModelMap/10k_random_points_values.csv\"\n",
      "qdata.trainfn <- \"P:/3_Malaria_Risk/4_RFModels/RF_2/ModelMap/10k_random_points_values_train.csv\"\n",
      "qdata.testfn <- \"P:/3_Malaria_Risk/4_RFModels/RF_2/ModelMap/10k_random_points_values_test.csv\"\n",
      "folder <- getwd()\n",
      "MODELfn.a <- \"Model2Prevalence\"\n",
      "predList <- c(\"TRM1011max\",\n",
      "\"TRM1011avg\",\n",
      "\"TRM1011min\",\n",
      "\"TRM1011sum\",\n",
      "\"ndvi_1113\",\n",
      "\"ndwi_1113\",\n",
      "\"PDENS_10\",\n",
      "\"MIS_BN_11\",\n",
      "\"MIS_IRS_11\",\n",
      "\"DEM\",\n",
      "\"Ev1011avg\",\n",
      "\"Ev1011max\",\n",
      "\"Ev1011min\",\n",
      "\"WBdistance\",\n",
      "\"WC_rmax\",\n",
      "\"WC_rmean\",\n",
      "\"WC_rmin\"\n",
      ")\n",
      "predFactor <- FALSE\n",
      "model.type <- \"RF\"\n",
      "response.name.a <- \"MIS_MAL_11\"\n",
      "response.type <- \"continuous\"\n",
      "seed.a <- 38\n",
      "unique.rowname <- \"ID\""
     ],
     "language": "python",
     "metadata": {},
     "outputs": [],
     "prompt_number": 3
    },
    {
     "cell_type": "heading",
     "level": 3,
     "metadata": {},
     "source": [
      "Build model"
     ]
    },
    {
     "cell_type": "code",
     "collapsed": false,
     "input": [
      "%%R\n",
      "model.obj.ex1a <- model.build( model.type=model.type,\n",
      "qdata.trainfn=qdata.trainfn,\n",
      "folder=folder,\n",
      "unique.rowname=unique.rowname,\n",
      "MODELfn=MODELfn.a,\n",
      "predList=predList,\n",
      "predFactor=predFactor,\n",
      "response.name=response.name.a,\n",
      "response.type=response.type,\n",
      "seed=seed.a)\n"
     ],
     "language": "python",
     "metadata": {},
     "outputs": [],
     "prompt_number": 4
    },
    {
     "cell_type": "heading",
     "level": 3,
     "metadata": {},
     "source": [
      "Create model diagnostics"
     ]
    },
    {
     "cell_type": "code",
     "collapsed": false,
     "input": [
      "%%R\n",
      "model.pred.ex1a <- model.diagnostics( model.obj=model.obj.ex1a,\n",
      "qdata.testfn=qdata.testfn,\n",
      "folder=folder,\n",
      "MODELfn=MODELfn.a,\n",
      "unique.rowname=unique.rowname,\n",
      "prediction.type=\"TEST\",\n",
      "device.type=c(\"pdf\"),\n",
      "cex=1.2)\n"
     ],
     "language": "python",
     "metadata": {},
     "outputs": [],
     "prompt_number": 5
    },
    {
     "cell_type": "heading",
     "level": 3,
     "metadata": {},
     "source": [
      "Make a map from the look up table and the model object"
     ]
    },
    {
     "cell_type": "code",
     "collapsed": false,
     "input": [
      "%%R\n",
      "\n",
      "rastLUTfn <- \"P:/3_Malaria_Risk/4_RFModels/RF_2/ModelMap/LUT_2013mapping_model2.csv\"\n",
      "model.mapmake( model.obj=model.obj.ex1a,\n",
      "folder=folder,\n",
      "MODELfn=MODELfn.a,\n",
      "rastLUTfn=rastLUTfn,\n",
      "na.action=\"na.omit\",\n",
      "map.sd=TRUE)\n"
     ],
     "language": "python",
     "metadata": {},
     "outputs": [],
     "prompt_number": 6
    },
    {
     "cell_type": "code",
     "collapsed": false,
     "input": [
      "%%R\n",
      "gc()"
     ],
     "language": "python",
     "metadata": {},
     "outputs": [],
     "prompt_number": 13
    },
    {
     "cell_type": "code",
     "collapsed": false,
     "input": [],
     "language": "python",
     "metadata": {},
     "outputs": []
    }
   ],
   "metadata": {}
  }
 ]
}