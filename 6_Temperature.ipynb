{
 "metadata": {
  "name": "",
  "signature": "sha256:17f9b34beba6702bf1981869ad17c94ee62e035cbd56ed34e701523168db8cc9"
 },
 "nbformat": 3,
 "nbformat_minor": 0,
 "worksheets": [
  {
   "cells": [
    {
     "cell_type": "heading",
     "level": 2,
     "metadata": {},
     "source": [
      "Use QGIS and GDAL to create Air Temperature images"
     ]
    },
    {
     "cell_type": "markdown",
     "metadata": {},
     "source": [
      "**QGIS** (previously known as \"Quantum GIS\") is a cross-platform free and open-source desktop geographic information system (GIS) application that provides data viewing, editing, and analysis capabilities."
     ]
    },
    {
     "cell_type": "markdown",
     "metadata": {},
     "source": [
      "**GDAL** (Geospatial Data Abstraction Library) is a library for reading and writing raster geospatial data formats.\n",
      "\n",
      "**OGR** library, which is part of the GDAL source tree, provides a similar capability for simple features vector data."
     ]
    },
    {
     "cell_type": "markdown",
     "metadata": {},
     "source": [
      "This documentation helps you to setup your (I)Python environment in order to create monthly air temperature statistics images from NetCDF files, available [here](http://apps.ecmwf.int/datasets/data/interim-full-moda/)"
     ]
    },
    {
     "cell_type": "heading",
     "level": 3,
     "metadata": {},
     "source": [
      "1. Download and install QGIS and GDAL"
     ]
    },
    {
     "cell_type": "markdown",
     "metadata": {},
     "source": [
      "**QGIS** can be downloaded [here](https://www.qgis.org/en/site/forusers/download.html), follow the instructions on the website to install **QGIS** on the OS you are working on.\n",
      "\n",
      "**GDAL** package for Python can be installed with *pip* by running on the command prompt/terminal the following line: *python -m pip install gdal*\n",
      "\n",
      "Otherwise, download **GDAL** and **GDAL** python bindings from [here](\n",
      "http://www.gisinternals.com/release.php)\n",
      "\n",
      "Then add the environment variable: \n",
      "- **GDAL_DATA** = C:\\Program Files (x86)\\GDAL\\gdal-data\n",
      "\n",
      "*Note: replace C:\\Program Files (x86)\\GDAL with the installation path of GDAL*"
     ]
    },
    {
     "cell_type": "heading",
     "level": 3,
     "metadata": {},
     "source": [
      "2. Set environment variables"
     ]
    },
    {
     "cell_type": "markdown",
     "metadata": {},
     "source": [
      "In order to use this script, some environment variables has to be set on the system.\n",
      "\n",
      "Under Windows, you can change the environment variables via \"Control Panel\\System and Security\\System\" and then go to Advanced System Settings in the left panel. Go to Environment Variables.\n",
      "\n",
      "Set under User variables the following entry:\n",
      "\n",
      "- **PYTHONPATH** =  C:\\Program Files (x86)\\QGIS Wien\\apps\\qgis\\python;C:\\Program Files (x86)\\QGIS Wien\\apps\\Python27\\Lib\\site-packages; C:\\Program Files (x86)\\QGIS Wien\\apps\\qgis\\python\\plugins\\processing;C:\\Program Files (x86)\\QGIS Wien\\apps\\qgis\\python\\plugins\n",
      "\n",
      "Add to the **PATH** variables the following entry: *c:\\qgispath * , or just run the following command in the command prompt: \n",
      "\n",
      "set PATH = C:\\Program Files (x86)\\QGIS Wien\\apps\\qgis\\bin;C:\\Program Files (x86)\\QGIS Wien\\bin;%PATH%\n",
      "\n",
      "*Note: replace  C:\\Program Files (x86)\\QGIS Wien with the installation path of QGIS. *\n",
      "\n",
      "If you are working on another OS, you can visit [this](http://docs.qgis.org/testing/en/docs/pyqgis_developer_cookbook/intro.html#running-custom-applications) page for more information."
     ]
    },
    {
     "cell_type": "heading",
     "level": 3,
     "metadata": {},
     "source": [
      "3. Info about Processing"
     ]
    },
    {
     "cell_type": "markdown",
     "metadata": {},
     "source": [
      "The QGIS **Processing** framework is a geoprocessing environment that can be used to call native and third-party algorithms from QGIS. \n",
      "\n",
      "It has over 600 algorithms to choose from, including:\n",
      "\n",
      "- **QGIS** geoalgorithms\n",
      "\n",
      "- **GDAL/OGR** commands\n",
      "\n",
      "- **GRASS** commands\n",
      "\n",
      "- **Orfeo Toolbox** for image analysis\n",
      "\n",
      "- **SAGA** algorithms\n",
      "\n",
      "One of the strengths of **Processing** is that we can use this framework inside IPython.\n",
      "\n",
      "- To execute an algorithm with some input/output parameters run inside a cell:  \n",
      "*processing.runalg(\"collection:algorithmname\", parameter1, parameter2,.....parameterN)*\n",
      "\n",
      "\n",
      "- To check the algorithm names run:  \n",
      "*processing.alglist()*\n",
      "\n",
      "\n",
      "- To check the algorithms information and the number/type of parameters read the [documentation](http://docs.qgis.org/2.6/en/docs/user_manual/processing_algs/), for each algorithm there is a detailed description of the parameters and an example in Python. Usually, to choose a raster/vector layer as input/output of an algorithm, it's enough to set a string containing the file path of the resource as a parameter of the function *processing.runalg()*. **Processing** will open any input file and add it automatically as a raster/vector layer.\n",
      "\n",
      "*For examples about __Processing__ check steps #4 #5 #6*"
     ]
    },
    {
     "cell_type": "heading",
     "level": 3,
     "metadata": {},
     "source": [
      "STEP #0: Set up paths, working directory inside IPython"
     ]
    },
    {
     "cell_type": "markdown",
     "metadata": {},
     "source": [
      "Before running the first cell you have to set the following lines:\n",
      "- Enter */lib /Frameworks /python *and other path folders as arguments of *sys.path.append* lines (if they are present, else comment these lines).\n",
      "\n",
      "- Set *executables_path* to your OS's */bin* folder (only for Linux and Mac OS x).\n",
      "\n",
      "- Set *wd* to your working directory, i.e. where your input files are stored and where your output files will be saved.\n",
      "\n",
      "- Set *country* to the country or zone name you are analyzing, this serves only as a prefix for the names of the files in output.\n",
      "\n",
      "- Set *month* to a number in range(1-12)\n",
      "\n",
      "- Set *QgsApplication.setPrefixPath* to your QGIS prefix path, to locate this path, open your QGIS application, go to View -> Panels -> Log Messages -> General and locate the prefix path in the window.\n",
      "\n",
      "- Run the first cell."
     ]
    },
    {
     "cell_type": "code",
     "collapsed": false,
     "input": [
      "import sys\n",
      "import os\n",
      "\n",
      "#QGIS & executables paths(required)\n",
      "#sys.path.append('/Applications/QGIS.app/Contents/MacOS/lib/')\n",
      "#sys.path.append('/Applications/QGIS.app/Contents/Frameworks/')\n",
      "#sys.path.append('/Applications/QGIS.app/Contents/Resources/python/')\n",
      "#sys.path.append('/Applications/QGIS.app/Contents/Resources/python/plugins')\n",
      "sys.path.append('C:\\Program Files (x86)\\QGIS Wien\\lib')\n",
      "sys.path.append('C:\\Program Files (x86)\\QGIS Wien\\apps')\n",
      "sys.path.append('C:\\Program Files (x86)\\QGIS Wien\\apps\\qgis\\python')\n",
      "sys.path.append('C:\\Program Files (x86)\\QGIS Wien\\apps\\qgis\\python\\plugins')\n",
      "sys.path.append('C:\\Program Files (x86)\\QGIS Wien\\apps\\qgis\\python\\plugins\\processing')\n",
      "#executables_path = '/usr/local/bin/'\n",
      "#Set working directory\n",
      "#wd = '/Users/Alex/Ipython_Notebook_Working/ncdf/'\n",
      "#wd = 'C:/Alex/script/'\n",
      "wd = 'P:/3_Malaria_Risk/1_Data/6_Temperature/Ale_script/'\n",
      "os.chdir(wd)\n",
      "\n",
      "import qgis\n",
      "import gdal\n",
      "from PyQt4.QtCore import QFileInfo,QSettings\n",
      "from qgis.analysis import QgsRasterCalculator, QgsRasterCalculatorEntry\n",
      "from qgis.core import *\n",
      "import qgis.utils\n",
      "\n",
      "\n",
      "#Country name(for output filenames)\n",
      "country = 'MDG'\n",
      "month = 3\n",
      "\n",
      "#QGIS path(required)\n",
      "#QgsApplication.setPrefixPath('/Applications/QGIS.app/Contents/MacOS',True)\n",
      "QgsApplication.setPrefixPath('C:/PROGRA~2/QGISWI~1/apps/qgis', True)\n",
      "QgsApplication.initQgis()\n",
      "\n",
      "\n",
      "\n",
      "import sys\n",
      "import os, sys, glob\n",
      "import qgis\n",
      "from qgis.core import *\n",
      "from PyQt4.QtGui import *\n",
      "from qgis.core import * # qgis.core must be imported before PyQt4.QtGui!!!\n",
      "from PyQt4.QtGui import *\n",
      "app = QApplication([])\n",
      "\n",
      "\n",
      "\n",
      "\n",
      "# Prepare processing framework \n",
      "#sys.path.append('/home/user/.qgis2/python/plugins')\n",
      "import processing\n",
      "from processing.core.Processing import Processing\n",
      "Processing.initialize()\n",
      "from processing.tools import *\n",
      "\n"
     ],
     "language": "python",
     "metadata": {},
     "outputs": [],
     "prompt_number": 1
    },
    {
     "cell_type": "heading",
     "level": 3,
     "metadata": {},
     "source": [
      "STEP #1,#2 Open NCDF as Raster and reproject it (bugged)"
     ]
    },
    {
     "cell_type": "markdown",
     "metadata": {},
     "source": [
      "In order to work with input data, we need to convert the NCDF file into a raster.\n",
      "\n",
      "**GDAL** can do it and the output seems to be correct, unfortunately if we apply the next steps to this output file, the values will be wrong.\n",
      "\n",
      "To overcome this problem **temporarily**, we can easily convert it inside QGIS, follow these steps:\n",
      "\n",
      "- Open QGIS\n",
      "\n",
      "- In the QGIS *Browser*, find the NCDF file and double click on it\n",
      "\n",
      "- Choose the correct projection (**EPSG:4326**)\n",
      "\n",
      "- Right click on the layer name in the *Layers* panel and choose *Save As...*\n",
      "\n",
      "- Choose *Project CRS* in the CRS menu and save it in your working directory with the name *projectedMONTHNUMBER.tif*\n",
      "\n",
      "- **Skip** this cell\n",
      "\n",
      "- Input files for the next cell are already in the working directory\n",
      "\n"
     ]
    },
    {
     "cell_type": "code",
     "collapsed": false,
     "input": [
      "#STEP 1,2 OPEN NCDF AS RASTER + reprojection\n",
      "monthList = ['Jan', 'Feb', 'Mar', 'Apr', 'May', 'Jun', 'Jul', 'Aug', 'Sep', 'Oct', 'Nov', 'Dec']\n",
      "netcdf_Name = 'GLOBAL_Tair2m_'+monthList[month-1]+'1979-2013_0,5deg.nc'\n",
      "print(netcdf_Name)\n",
      "\n",
      "#command = '/Library/Frameworks/GDAL.framework/Versions/1.11/Programs/gdal_translate -a_srs EPSG:4326 -of GTiff ' + netcdf_Name + ' projected.tif'\n",
      "#command = '/Library/Frameworks/GDAL.framework/Versions/1.11/Programs/gdal_translate -a_srs EPSG:4326 -of GTiff ' + netcdf_Name + ' projected.tif'\n",
      "\n",
      "#os.system(command)\n",
      "\n"
     ],
     "language": "python",
     "metadata": {},
     "outputs": [
      {
       "output_type": "stream",
       "stream": "stdout",
       "text": [
        "GLOBAL_Tair2m_Mar1979-2013_0,5deg.nc\n"
       ]
      }
     ],
     "prompt_number": 2
    },
    {
     "cell_type": "heading",
     "level": 3,
     "metadata": {},
     "source": [
      "STEP #3 Get border extent"
     ]
    },
    {
     "cell_type": "markdown",
     "metadata": {},
     "source": [
      "Since the resolution of the input data is poor, we can't clip it by using country borders, instead, we take a rectangle over the borders shapefile and we clip the image by using this *extent*:\n",
      "\n",
      "- Set *shapefilename* to the path of your border shapefile (available for download at http://www.diva-gis.org/)\n",
      "\n",
      "- Run the cell"
     ]
    },
    {
     "cell_type": "code",
     "collapsed": false,
     "input": [
      "#STEP 3 saga:getshapesextent\n",
      "\n",
      "shapefilename = 'P:/3_Malaria_Risk/1_Data/5_Admin_Boundaries/MDG_adm/MDG_adm0.shp'\n",
      "fileInfo2 = QFileInfo(shapefilename)\n",
      "baseName2 = fileInfo2.baseName()\n",
      "vlayer1 = QgsVectorLayer(shapefilename, baseName2,'ogr')\n",
      "shapefilenameout='rectangle.shp'\n",
      "#fileInfoout = QFileInfo(shapefilename)\n",
      "#baseNameout = fileInfo2.baseName()\n",
      "#vlayer1out = QgsVectorLayer(shapefilenameout, baseNameout,'ogr')\n",
      "#print(processing.alglist())\n",
      "vlayer1out=processing.runalg('saga:getshapesextents', shapefilename, True, shapefilenameout)\n",
      "\n",
      "temp=vlayer1.extent()\n",
      "extent=str(temp.xMinimum())+' , '+str(temp.xMaximum())+' , '+str(temp.yMinimum())+' , '+str(temp.yMaximum())"
     ],
     "language": "python",
     "metadata": {},
     "outputs": [],
     "prompt_number": 3
    },
    {
     "cell_type": "heading",
     "level": 3,
     "metadata": {},
     "source": [
      "STEP #4 Clip Raster by Extent"
     ]
    },
    {
     "cell_type": "markdown",
     "metadata": {},
     "source": [
      "To clip the image we exploit a Ready-to-Use algorithm included in the *Processing toolbox*: **gdalogr:cliprasterbyextent**\n",
      "\n",
      "- Run the cell\n",
      "\n",
      "**Output**: *country_clipped_Month.tif*"
     ]
    },
    {
     "cell_type": "code",
     "collapsed": false,
     "input": [
      "#STEP 4 clipper(bugged with floating points value, I use cliprasterbyextent)\n",
      "if not os.path.exists(wd+country+'_'+monthList[month-1]):\n",
      "    os.makedirs(wd+country+'_'+monthList[month-1])\n",
      "\n",
      "\n",
      "\n",
      "processing.runalg('gdalogr:cliprasterbyextent',wd+'projected'+str(month)+'.tif', None, extent, None, wd+country+'_clipped_'+monthList[month-1]+'.tif')\n",
      "#command4 = 'gdalwarp' + ' -t_srs EPSG:4326 -overwrite -cutline /Users/Alex/Downloads/MDG_adm-2/MDG_adm0.shp -crop_to_cutline -of GTiff projected.tif projcut.tif'\n",
      "#os.system(command4)"
     ],
     "language": "python",
     "metadata": {},
     "outputs": [
      {
       "metadata": {},
       "output_type": "pyout",
       "prompt_number": 4,
       "text": [
        "{'OUTPUT': 'C:/Alex/script/MDG_clipped_Mar.tif'}"
       ]
      }
     ],
     "prompt_number": 4
    },
    {
     "cell_type": "heading",
     "level": 3,
     "metadata": {},
     "source": [
      "STEP #5 Split image with Orfeo Toolbox"
     ]
    },
    {
     "cell_type": "markdown",
     "metadata": {},
     "source": [
      "The output from the previous step provides us an image with N bands, where N is the number of months of data of the input NCDF file.\n",
      "\n",
      "In order to calculate statistics for each pixel we have to split the image with N bands into N images with one band each.\n",
      "\n",
      "To do this we use **otb:splitimage**.\n",
      "\n",
      "- Run the cell\n",
      "\n",
      "**Output**: */country_Month/split_0.tif,....,/country_Month/split_n.tif*"
     ]
    },
    {
     "cell_type": "code",
     "collapsed": false,
     "input": [
      "#STEP 5 SPLIT IMAGE WITH ORFEO TOOLBOX\n",
      "\n",
      "processing.runalg('otb:splitimage',wd+country+'_clipped_'+monthList[month-1]+'.tif',128,wd+country+'_'+monthList[month-1]+'/split.tif')"
     ],
     "language": "python",
     "metadata": {},
     "outputs": [
      {
       "metadata": {},
       "output_type": "pyout",
       "prompt_number": 5,
       "text": [
        "{'-out': 'C:/Alex/script/MDG_Mar/split.tif'}"
       ]
      }
     ],
     "prompt_number": 5
    },
    {
     "cell_type": "heading",
     "level": 3,
     "metadata": {},
     "source": [
      "STEP #6 Create statistics images with Grass"
     ]
    },
    {
     "cell_type": "markdown",
     "metadata": {},
     "source": [
      "In the final step we create images with statistics for each pixel: minimum, maximum, average.\n",
      "\n",
      "In order to do this we call **grass:rseries** algorithm with different parameters for each statistic.\n",
      "\n",
      "- Run the final cell\n",
      "\n",
      "**Output**: *country_Month_Minimum.tif, country_Month_Maximum.tif, country_Month_Average.tif*"
     ]
    },
    {
     "cell_type": "code",
     "collapsed": false,
     "input": [
      "#STEP 6 CREATE STATISTICS IMAGES WITH GRASS R.SERIES(AVERAGE,MINIMUM,MAXIMUM)\n",
      "\n",
      "from __future__ import print_function\n",
      "import os\n",
      "rasterFileName=wd+country+'_'+monthList[month-1]+'/split_0.tif'\n",
      "fileInfor = QFileInfo(rasterFileName)\n",
      "baseNamer = fileInfor.baseName()\n",
      "rlayer1 = QgsRasterLayer(rasterFileName, baseNamer)\n",
      "temp=rlayer1.extent()\n",
      "extent=str(temp.xMinimum())+','+str(temp.xMaximum())+','+str(temp.yMinimum())+','+str(temp.yMaximum())\n",
      "\n",
      "tiflist=\"\"\n",
      "for file in os.listdir(wd+country+'_'+monthList[month-1]):\n",
      "    if file.endswith(\".tif\"):\n",
      "        tiflist=tiflist+wd+country+'_'+monthList[month-1]+'/'+file+\";\"\n",
      "tiflist=tiflist[:-1]        \n",
      "\n",
      "processing.runalg('grass:r.series',tiflist,True, 4, '-10000000000,10000000000',extent,0, wd+country+'_'+monthList[month-1]+'_Minimum.tif')\n",
      "processing.runalg('grass:r.series',tiflist,True, 6, '-10000000000,10000000000',extent,0, wd+country+'_'+monthList[month-1]+'_Maximum.tif')\n",
      "processing.runalg('grass:r.series',tiflist,True, 0, '-10000000000,10000000000',extent,0, wd+country+'_'+monthList[month-1]+'_Average.tif')\n",
      "\n",
      "QgsApplication.exitQgis()\n",
      "app.exit()"
     ],
     "language": "python",
     "metadata": {},
     "outputs": [],
     "prompt_number": 6
    },
    {
     "cell_type": "code",
     "collapsed": false,
     "input": [
      "% reload_ext rpy2.ipython"
     ],
     "language": "python",
     "metadata": {},
     "outputs": [],
     "prompt_number": 1
    },
    {
     "cell_type": "code",
     "collapsed": false,
     "input": [
      "%%R\n",
      "wd <- \"P:/3_Malaria_Risk/3_Variables/6_Temperature/\"\n",
      "library('sp')\n",
      "library('maps')\n",
      "library('spam')\n",
      "library('XML')\n",
      "library('raster')\n",
      "library('rgdal')\n",
      "library('ggplot2')\n",
      "library('fields')\n",
      "library('spgrass6')\n",
      "library('prevR')"
     ],
     "language": "python",
     "metadata": {},
     "outputs": [],
     "prompt_number": 2
    },
    {
     "cell_type": "code",
     "collapsed": false,
     "input": [
      "%%R -w 43 -h 20 -u cm\n",
      "avg <- paste(wd,\"MDG_Mar_Average.tif\",sep=\"\")\n",
      "ravg <- raster(avg)\n",
      "max <- paste(wd,\"MDG_Mar_Maximum.tif\",sep=\"\")\n",
      "rmax <- raster(max)\n",
      "min <- paste(wd,\"MDG_Mar_Minimum.tif\",sep=\"\")\n",
      "rmin <- raster(min)\n",
      "\n",
      "par(mfrow=c(1,2), mar=c(5,5,2,4),oma=c(1,1,1,5),cex.axis=1.3,cex.lab=1.3,cex.main=1.6)\n",
      "plot(ravg, main='March Mean Air Temperature', xlab='lon',ylab='lat', col=prevR.colors.red(10), na.rm=TRUE)\n",
      "plot(rmin, main='March Min Air Temperature', xlab='lon',ylab='lat', col=prevR.colors.red(10), na.rm=TRUE)\n",
      "plot(rmax, main='March Max Air Temperature', xlab='lon',ylab='lat', col=prevR.colors.red(10), na.rm=TRUE)"
     ],
     "language": "python",
     "metadata": {},
     "outputs": [
      {
       "metadata": {},
       "output_type": "display_data",
       "png": "[encoded data removed]"
      },
      {
       "metadata": {},
       "output_type": "display_data",
       "png": "[encoded data removed]"
      }
     ],
     "prompt_number": 15
    },
    {
     "cell_type": "code",
     "collapsed": false,
     "input": [],
     "language": "python",
     "metadata": {},
     "outputs": []
    }
   ],
   "metadata": {}
  }
 ]
}