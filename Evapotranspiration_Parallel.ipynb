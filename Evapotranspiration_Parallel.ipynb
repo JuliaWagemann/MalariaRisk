{
 "metadata": {
  "name": "",
  "signature": "sha256:7dcd324016203ba1e579b8651661b785d5468b5be9f16166c916aab55d4187dc"
 },
 "nbformat": 3,
 "nbformat_minor": 0,
 "worksheets": [
  {
   "cells": [
    {
     "cell_type": "code",
     "collapsed": false,
     "input": [
      "from IPython.parallel import Client\n",
      "import os\n",
      "rc=Client()\n",
      "rc.ids"
     ],
     "language": "python",
     "metadata": {},
     "outputs": [
      {
       "metadata": {},
       "output_type": "pyout",
       "prompt_number": 10,
       "text": [
        "[0, 1, 2, 3, 4, 5, 6, 7, 8, 9, 10, 11]"
       ]
      }
     ],
     "prompt_number": 10
    },
    {
     "cell_type": "code",
     "collapsed": false,
     "input": [
      "dview=rc[:]\n",
      "dview.scatter('a' , range(12))\n",
      "dview.get('a')"
     ],
     "language": "python",
     "metadata": {},
     "outputs": [
      {
       "metadata": {},
       "output_type": "pyout",
       "prompt_number": 11,
       "text": [
        "[[0], [1], [2], [3], [4], [5], [6], [7], [8], [9], [10], [11]]"
       ]
      }
     ],
     "prompt_number": 11
    },
    {
     "cell_type": "code",
     "collapsed": false,
     "input": [
      "%%px\n",
      "from __future__ import print_function\n",
      "\n",
      "from rpy2.robjects.packages import importr\n",
      "from rpy2.robjects import r\n",
      "import rpy2.robjects.numpy2ri as rpyn\n",
      "import datetime\n",
      "import ee\n",
      "import numpy as np\n",
      "import os\n",
      "import matplotlib.pyplot as plt\n",
      "from pylab import figure\n",
      "import matplotlib.dates as ndates\n",
      "from pandas import *\n",
      "\n",
      "from IPython.html import widgets\n",
      "from IPython.display import display\n",
      "from IPython.utils import traitlets\n",
      "from IPython.core.display import Javascript\n",
      "\n",
      "% reload_ext rpy2.ipython\n",
      "% matplotlib inline\n",
      "wd = 'C:/Alex/script/evapo/'\n",
      "os.chdir(wd)\n",
      "monthList = ['Jan', 'Feb', 'Mar', 'Apr', 'May', 'Jun', 'Jul', 'Aug', 'Sep', 'Oct', 'Nov', 'Dec']\n",
      "month = a[0]\n",
      "monthName = monthList[month]\n",
      "try:\n",
      "    os.mkdir(wd+monthName)\n",
      "except WindowsError:\n",
      "    print ('Directory already created, it will be deleted at the end of the script if delete_temp is set to True!')\n",
      "    \n",
      "os.chdir(wd+monthName)"
     ],
     "language": "python",
     "metadata": {},
     "outputs": [
      {
       "output_type": "stream",
       "stream": "stdout",
       "text": [
        "[stdout:0] Directory already created, it will be deleted at the end of the script if delete_temp is set to True!\n",
        "[stdout:1] Directory already created, it will be deleted at the end of the script if delete_temp is set to True!\n",
        "[stdout:2] Directory already created, it will be deleted at the end of the script if delete_temp is set to True!\n",
        "[stdout:3] Directory already created, it will be deleted at the end of the script if delete_temp is set to True!\n",
        "[stdout:4] Directory already created, it will be deleted at the end of the script if delete_temp is set to True!\n",
        "[stdout:5] Directory already created, it will be deleted at the end of the script if delete_temp is set to True!\n",
        "[stdout:6] Directory already created, it will be deleted at the end of the script if delete_temp is set to True!\n",
        "[stdout:7] Directory already created, it will be deleted at the end of the script if delete_temp is set to True!\n",
        "[stdout:8] Directory already created, it will be deleted at the end of the script if delete_temp is set to True!\n",
        "[stdout:9] Directory already created, it will be deleted at the end of the script if delete_temp is set to True!\n",
        "[stdout:10] Directory already created, it will be deleted at the end of the script if delete_temp is set to True!\n",
        "[stdout:11] Directory already created, it will be deleted at the end of the script if delete_temp is set to True!\n"
       ]
      }
     ],
     "prompt_number": 12
    },
    {
     "cell_type": "code",
     "collapsed": false,
     "input": [
      "%%px\n",
      "%%R -i month,monthName\n",
      "library(raster)\n",
      "library(rgdal)\n",
      "path_evap <- \"P:/3_Malaria_Risk/1_Data/9_Evapotranspiration\"\n",
      "\n",
      "setwd (path_evap)\n",
      "myshp <- readOGR(\"C:/Alex/script/MDG_adm0.shp\", layer=basename(\"MDG_adm0\") )\n",
      "e <- extent(myshp)\n",
      "fileList <- list.files(path=path_evap, full.names = FALSE, pattern = \"*.nc\")\n",
      "\n",
      "for (i in fileList){\n",
      "myraster <- raster(i, band = month+1)\n",
      "\n",
      "# Cropping the raster to the shapefile spatial extent\n",
      "myraster.crop <- crop(myraster, e, snap=\"out\")\n",
      "\n",
      "# Dummy raster with a spatial extension equal to the cropped raster,\n",
      "# but full of NA values\n",
      "crop          <- setValues(myraster.crop, NA)\n",
      "\n",
      "#  Rasterize the catchment boundaries, with NA outside the catchment \n",
      "myshp.r <- rasterize(myshp, crop)\n",
      "\n",
      "# Putting NA values in all the raster cells outside the shapefile boundaries\n",
      "myraster.masked <- mask(x=myraster.crop, mask=myshp.r)\n",
      "\n",
      "#plot(myraster)\n",
      "#print(myraster.masked)\n",
      "outputname <- i\n",
      "\n",
      "outputname <- sub(\".nc\" , monthName, outputname)\n",
      "outfile <- paste(\"C:/Alex/script/evapo/\",monthName, sep=\"\")\n",
      "outfile2 <- paste(outfile, \"/\", sep=\"\")\n",
      "outfile3 <- paste(outfile2, outputname, sep=\"\")\n",
      "outfile4 <- paste(outfile3, \".tif\", sep=\"\")\n",
      "writeRaster(myraster.masked, outfile4, format = \"GTiff\")\n",
      "#plot()\n",
      "}"
     ],
     "language": "python",
     "metadata": {},
     "outputs": [],
     "prompt_number": 9
    },
    {
     "cell_type": "code",
     "collapsed": false,
     "input": [
      "%%px\n",
      "#STEP 0: Set up paths, working directory inside IPython\n",
      "\n",
      "import sys\n",
      "import os\n",
      "import shutil\n",
      "\n",
      "#QGIS & executables paths(required)\n",
      "sys.path.append('C:\\Program Files (x86)\\QGIS Wien\\lib')\n",
      "sys.path.append('C:\\Program Files (x86)\\QGIS Wien\\apps')\n",
      "sys.path.append('C:\\Program Files (x86)\\QGIS Wien\\apps\\qgis\\python')\n",
      "sys.path.append('C:\\Program Files (x86)\\QGIS Wien\\apps\\qgis\\python\\plugins')\n",
      "sys.path.append('C:\\Program Files (x86)\\QGIS Wien\\apps\\qgis\\python\\plugins\\processing')\n",
      "\n",
      "delete_temp = True\n",
      "\n",
      "#Set temporary folder\n",
      "os.chdir(wd+monthName)\n",
      "print(os.getcwd())\n",
      "os.environ['TMP']=os.getcwd()\n",
      "print(os.environ['TMP'])\n",
      "\n",
      "import qgis\n",
      "import gdal\n",
      "from PyQt4.QtCore import QFileInfo,QSettings\n",
      "from qgis.analysis import QgsRasterCalculator, QgsRasterCalculatorEntry\n",
      "from qgis.core import *\n",
      "import qgis.utils\n",
      "\n",
      "\n",
      "#Country name(for output filenames)\n",
      "country = 'MDG'\n",
      "\n",
      "#QGIS path(required)\n",
      "#QgsApplication.setPrefixPath('/Applications/QGIS.app/Contents/MacOS',True)\n",
      "QgsApplication.setPrefixPath('C:/PROGRA~2/QGISWI~1/apps/qgis', True)\n",
      "QgsApplication.initQgis()\n",
      "\n",
      "import sys\n",
      "import os, sys, glob\n",
      "from qgis.core import *\n",
      "from PyQt4.QtGui import *\n",
      "app = QApplication([])\n",
      "\n",
      "# Prepare processing framework \n",
      "import processing\n",
      "from processing.core.Processing import Processing\n",
      "from processing.core.ProcessingConfig import ProcessingConfig\n",
      "ProcessingConfig.setSettingValue('OUTPUT_FOLDER',os.getcwd())\n",
      "Processing.initialize()\n",
      "from processing.tools import *\n"
     ],
     "language": "python",
     "metadata": {},
     "outputs": [
      {
       "output_type": "stream",
       "stream": "stdout",
       "text": [
        "[stdout:0] \n",
        "C:\\Alex\\script\\evapo\\Jan\n",
        "C:\\Alex\\script\\evapo\\Jan\n",
        "[stdout:1] \n",
        "C:\\Alex\\script\\evapo\\Feb\n",
        "C:\\Alex\\script\\evapo\\Feb\n",
        "[stdout:2] \n",
        "C:\\Alex\\script\\evapo\\Mar\n",
        "C:\\Alex\\script\\evapo\\Mar\n",
        "[stdout:3] \n",
        "C:\\Alex\\script\\evapo\\Apr\n",
        "C:\\Alex\\script\\evapo\\Apr\n",
        "[stdout:4] \n",
        "C:\\Alex\\script\\evapo\\May\n",
        "C:\\Alex\\script\\evapo\\May\n",
        "[stdout:5] \n",
        "C:\\Alex\\script\\evapo\\Jun\n",
        "C:\\Alex\\script\\evapo\\Jun\n",
        "[stdout:6] \n",
        "C:\\Alex\\script\\evapo\\Jul\n",
        "C:\\Alex\\script\\evapo\\Jul\n",
        "[stdout:7] \n",
        "C:\\Alex\\script\\evapo\\Aug\n",
        "C:\\Alex\\script\\evapo\\Aug\n",
        "[stdout:8] \n",
        "C:\\Alex\\script\\evapo\\Sep\n",
        "C:\\Alex\\script\\evapo\\Sep\n",
        "[stdout:9] \n",
        "C:\\Alex\\script\\evapo\\Oct\n",
        "C:\\Alex\\script\\evapo\\Oct\n",
        "[stdout:10] \n",
        "C:\\Alex\\script\\evapo\\Nov\n",
        "C:\\Alex\\script\\evapo\\Nov\n",
        "[stdout:11] \n",
        "C:\\Alex\\script\\evapo\\Dec\n",
        "C:\\Alex\\script\\evapo\\Dec\n"
       ]
      }
     ],
     "prompt_number": 13
    },
    {
     "cell_type": "code",
     "collapsed": false,
     "input": [
      "%%px\n",
      "\n",
      "fileList = os.listdir(os.getcwd())\n",
      "print(fileList)\n",
      "tiflist= '' \n",
      "for file in os.listdir(os.getcwd()):\n",
      "    if file.endswith(\".tif\"):\n",
      "        tiflist=tiflist+os.getcwd()+'/'+file+\";\"\n",
      "tiflist=tiflist[:-1]\n",
      "print(tiflist)\n",
      "\n",
      "templayer=QgsRasterLayer(os.listdir(os.getcwd())[0])\n",
      "temp=templayer.extent()\n",
      "extent=str(temp.xMinimum())+','+str(temp.xMaximum())+','+str(temp.yMinimum())+','+str(temp.yMaximum())\n",
      "\n",
      "processing.runalg('grass:r.series',tiflist,True, 4, '-10000000000,10000000000',extent,0, wd+country+'_Evapo_'+monthName+'_Minimum.tif')\n",
      "processing.runalg('grass:r.series',tiflist,True, 6, '-10000000000,10000000000',extent,0, wd+country+'_Evapo_'+monthName+'_Maximum.tif')\n",
      "processing.runalg('grass:r.series',tiflist,True, 0, '-10000000000,10000000000',extent,0, wd+country+'_Evapo_'+monthName+'_Average.tif')\n",
      "#processing.runalg('grass:r.series',tiflist,True, 10, '-10000000000,10000000000',extent,0, wd+country+'_Evapo_'+monthName+'_Sum.tif')"
     ],
     "language": "python",
     "metadata": {},
     "outputs": [
      {
       "output_type": "stream",
       "stream": "stdout",
       "text": [
        "[stdout:0] \n",
        "['2001Jan.tif', '2001Jan.tif.aux.xml', '2002Jan.tif', '2002Jan.tif.aux.xml', '2003Jan.tif', '2003Jan.tif.aux.xml', '2004Jan.tif', '2004Jan.tif.aux.xml', '2005Jan.tif', '2005Jan.tif.aux.xml', '2006Jan.tif', '2006Jan.tif.aux.xml', '2007Jan.tif', '2007Jan.tif.aux.xml', '2008Jan.tif', '2008Jan.tif.aux.xml', '2009Jan.tif', '2009Jan.tif.aux.xml', '2010Jan.tif', '2010Jan.tif.aux.xml', '2011Jan.tif', '2011Jan.tif.aux.xml', '2012Jan.tif', '2012Jan.tif.aux.xml', '2013Jan.tif', '2013Jan.tif.aux.xml', 'processing']\n",
        "C:\\Alex\\script\\evapo\\Jan/2001Jan.tif;C:\\Alex\\script\\evapo\\Jan/2002Jan.tif;C:\\Alex\\script\\evapo\\Jan/2003Jan.tif;C:\\Alex\\script\\evapo\\Jan/2004Jan.tif;C:\\Alex\\script\\evapo\\Jan/2005Jan.tif;C:\\Alex\\script\\evapo\\Jan/2006Jan.tif;C:\\Alex\\script\\evapo\\Jan/2007Jan.tif;C:\\Alex\\script\\evapo\\Jan/2008Jan.tif;C:\\Alex\\script\\evapo\\Jan/2009Jan.tif;C:\\Alex\\script\\evapo\\Jan/2010Jan.tif;C:\\Alex\\script\\evapo\\Jan/2011Jan.tif;C:\\Alex\\script\\evapo\\Jan/2012Jan.tif;C:\\Alex\\script\\evapo\\Jan/2013Jan.tif\n",
        "[stdout:1] \n",
        "['2001Feb.tif', '2001Feb.tif.aux.xml', '2002Feb.tif', '2002Feb.tif.aux.xml', '2003Feb.tif', '2003Feb.tif.aux.xml', '2004Feb.tif', '2004Feb.tif.aux.xml', '2005Feb.tif', '2005Feb.tif.aux.xml', '2006Feb.tif', '2006Feb.tif.aux.xml', '2007Feb.tif', '2007Feb.tif.aux.xml', '2008Feb.tif', '2008Feb.tif.aux.xml', '2009Feb.tif', '2009Feb.tif.aux.xml', '2010Feb.tif', '2010Feb.tif.aux.xml', '2011Feb.tif', '2011Feb.tif.aux.xml', '2012Feb.tif', '2012Feb.tif.aux.xml', '2013Feb.tif', '2013Feb.tif.aux.xml', 'processing']\n",
        "C:\\Alex\\script\\evapo\\Feb/2001Feb.tif;C:\\Alex\\script\\evapo\\Feb/2002Feb.tif;C:\\Alex\\script\\evapo\\Feb/2003Feb.tif;C:\\Alex\\script\\evapo\\Feb/2004Feb.tif;C:\\Alex\\script\\evapo\\Feb/2005Feb.tif;C:\\Alex\\script\\evapo\\Feb/2006Feb.tif;C:\\Alex\\script\\evapo\\Feb/2007Feb.tif;C:\\Alex\\script\\evapo\\Feb/2008Feb.tif;C:\\Alex\\script\\evapo\\Feb/2009Feb.tif;C:\\Alex\\script\\evapo\\Feb/2010Feb.tif;C:\\Alex\\script\\evapo\\Feb/2011Feb.tif;C:\\Alex\\script\\evapo\\Feb/2012Feb.tif;C:\\Alex\\script\\evapo\\Feb/2013Feb.tif\n",
        "[stdout:2] \n",
        "['2001Mar.tif', '2001Mar.tif.aux.xml', '2002Mar.tif', '2002Mar.tif.aux.xml', '2003Mar.tif', '2003Mar.tif.aux.xml', '2004Mar.tif', '2004Mar.tif.aux.xml', '2005Mar.tif', '2005Mar.tif.aux.xml', '2006Mar.tif', '2006Mar.tif.aux.xml', '2007Mar.tif', '2007Mar.tif.aux.xml', '2008Mar.tif', '2008Mar.tif.aux.xml', '2009Mar.tif', '2009Mar.tif.aux.xml', '2010Mar.tif', '2010Mar.tif.aux.xml', '2011Mar.tif', '2011Mar.tif.aux.xml', '2012Mar.tif', '2012Mar.tif.aux.xml', '2013Mar.tif', '2013Mar.tif.aux.xml', 'processing']\n",
        "C:\\Alex\\script\\evapo\\Mar/2001Mar.tif;C:\\Alex\\script\\evapo\\Mar/2002Mar.tif;C:\\Alex\\script\\evapo\\Mar/2003Mar.tif;C:\\Alex\\script\\evapo\\Mar/2004Mar.tif;C:\\Alex\\script\\evapo\\Mar/2005Mar.tif;C:\\Alex\\script\\evapo\\Mar/2006Mar.tif;C:\\Alex\\script\\evapo\\Mar/2007Mar.tif;C:\\Alex\\script\\evapo\\Mar/2008Mar.tif;C:\\Alex\\script\\evapo\\Mar/2009Mar.tif;C:\\Alex\\script\\evapo\\Mar/2010Mar.tif;C:\\Alex\\script\\evapo\\Mar/2011Mar.tif;C:\\Alex\\script\\evapo\\Mar/2012Mar.tif;C:\\Alex\\script\\evapo\\Mar/2013Mar.tif\n",
        "[stdout:3] \n",
        "['2001Apr.tif', '2001Apr.tif.aux.xml', '2002Apr.tif', '2002Apr.tif.aux.xml', '2003Apr.tif', '2003Apr.tif.aux.xml', '2004Apr.tif', '2004Apr.tif.aux.xml', '2005Apr.tif', '2005Apr.tif.aux.xml', '2006Apr.tif', '2006Apr.tif.aux.xml', '2007Apr.tif', '2007Apr.tif.aux.xml', '2008Apr.tif', '2008Apr.tif.aux.xml', '2009Apr.tif', '2009Apr.tif.aux.xml', '2010Apr.tif', '2010Apr.tif.aux.xml', '2011Apr.tif', '2011Apr.tif.aux.xml', '2012Apr.tif', '2012Apr.tif.aux.xml', '2013Apr.tif', '2013Apr.tif.aux.xml', 'processing']\n",
        "C:\\Alex\\script\\evapo\\Apr/2001Apr.tif;C:\\Alex\\script\\evapo\\Apr/2002Apr.tif;C:\\Alex\\script\\evapo\\Apr/2003Apr.tif;C:\\Alex\\script\\evapo\\Apr/2004Apr.tif;C:\\Alex\\script\\evapo\\Apr/2005Apr.tif;C:\\Alex\\script\\evapo\\Apr/2006Apr.tif;C:\\Alex\\script\\evapo\\Apr/2007Apr.tif;C:\\Alex\\script\\evapo\\Apr/2008Apr.tif;C:\\Alex\\script\\evapo\\Apr/2009Apr.tif;C:\\Alex\\script\\evapo\\Apr/2010Apr.tif;C:\\Alex\\script\\evapo\\Apr/2011Apr.tif;C:\\Alex\\script\\evapo\\Apr/2012Apr.tif;C:\\Alex\\script\\evapo\\Apr/2013Apr.tif\n",
        "[stdout:4] \n",
        "['2001May.tif', '2001May.tif.aux.xml', '2002May.tif', '2002May.tif.aux.xml', '2003May.tif', '2003May.tif.aux.xml', '2004May.tif', '2004May.tif.aux.xml', '2005May.tif', '2005May.tif.aux.xml', '2006May.tif', '2006May.tif.aux.xml', '2007May.tif', '2007May.tif.aux.xml', '2008May.tif', '2008May.tif.aux.xml', '2009May.tif', '2009May.tif.aux.xml', '2010May.tif', '2010May.tif.aux.xml', '2011May.tif', '2011May.tif.aux.xml', '2012May.tif', '2012May.tif.aux.xml', '2013May.tif', '2013May.tif.aux.xml', 'processing']\n",
        "C:\\Alex\\script\\evapo\\May/2001May.tif;C:\\Alex\\script\\evapo\\May/2002May.tif;C:\\Alex\\script\\evapo\\May/2003May.tif;C:\\Alex\\script\\evapo\\May/2004May.tif;C:\\Alex\\script\\evapo\\May/2005May.tif;C:\\Alex\\script\\evapo\\May/2006May.tif;C:\\Alex\\script\\evapo\\May/2007May.tif;C:\\Alex\\script\\evapo\\May/2008May.tif;C:\\Alex\\script\\evapo\\May/2009May.tif;C:\\Alex\\script\\evapo\\May/2010May.tif;C:\\Alex\\script\\evapo\\May/2011May.tif;C:\\Alex\\script\\evapo\\May/2012May.tif;C:\\Alex\\script\\evapo\\May/2013May.tif\n",
        "[stdout:5] \n",
        "['2001Jun.tif', '2001Jun.tif.aux.xml', '2002Jun.tif', '2002Jun.tif.aux.xml', '2003Jun.tif', '2003Jun.tif.aux.xml', '2004Jun.tif', '2004Jun.tif.aux.xml', '2005Jun.tif', '2005Jun.tif.aux.xml', '2006Jun.tif', '2006Jun.tif.aux.xml', '2007Jun.tif', '2007Jun.tif.aux.xml', '2008Jun.tif', '2008Jun.tif.aux.xml', '2009Jun.tif', '2009Jun.tif.aux.xml', '2010Jun.tif', '2010Jun.tif.aux.xml', '2011Jun.tif', '2011Jun.tif.aux.xml', '2012Jun.tif', '2012Jun.tif.aux.xml', '2013Jun.tif', '2013Jun.tif.aux.xml', 'processing']\n",
        "C:\\Alex\\script\\evapo\\Jun/2001Jun.tif;C:\\Alex\\script\\evapo\\Jun/2002Jun.tif;C:\\Alex\\script\\evapo\\Jun/2003Jun.tif;C:\\Alex\\script\\evapo\\Jun/2004Jun.tif;C:\\Alex\\script\\evapo\\Jun/2005Jun.tif;C:\\Alex\\script\\evapo\\Jun/2006Jun.tif;C:\\Alex\\script\\evapo\\Jun/2007Jun.tif;C:\\Alex\\script\\evapo\\Jun/2008Jun.tif;C:\\Alex\\script\\evapo\\Jun/2009Jun.tif;C:\\Alex\\script\\evapo\\Jun/2010Jun.tif;C:\\Alex\\script\\evapo\\Jun/2011Jun.tif;C:\\Alex\\script\\evapo\\Jun/2012Jun.tif;C:\\Alex\\script\\evapo\\Jun/2013Jun.tif\n",
        "[stdout:6] \n",
        "['2001Jul.tif', '2001Jul.tif.aux.xml', '2002Jul.tif', '2002Jul.tif.aux.xml', '2003Jul.tif', '2003Jul.tif.aux.xml', '2004Jul.tif', '2004Jul.tif.aux.xml', '2005Jul.tif', '2005Jul.tif.aux.xml', '2006Jul.tif', '2006Jul.tif.aux.xml', '2007Jul.tif', '2007Jul.tif.aux.xml', '2008Jul.tif', '2008Jul.tif.aux.xml', '2009Jul.tif', '2009Jul.tif.aux.xml', '2010Jul.tif', '2010Jul.tif.aux.xml', '2011Jul.tif', '2011Jul.tif.aux.xml', '2012Jul.tif', '2012Jul.tif.aux.xml', '2013Jul.tif', '2013Jul.tif.aux.xml', 'processing']\n",
        "C:\\Alex\\script\\evapo\\Jul/2001Jul.tif;C:\\Alex\\script\\evapo\\Jul/2002Jul.tif;C:\\Alex\\script\\evapo\\Jul/2003Jul.tif;C:\\Alex\\script\\evapo\\Jul/2004Jul.tif;C:\\Alex\\script\\evapo\\Jul/2005Jul.tif;C:\\Alex\\script\\evapo\\Jul/2006Jul.tif;C:\\Alex\\script\\evapo\\Jul/2007Jul.tif;C:\\Alex\\script\\evapo\\Jul/2008Jul.tif;C:\\Alex\\script\\evapo\\Jul/2009Jul.tif;C:\\Alex\\script\\evapo\\Jul/2010Jul.tif;C:\\Alex\\script\\evapo\\Jul/2011Jul.tif;C:\\Alex\\script\\evapo\\Jul/2012Jul.tif;C:\\Alex\\script\\evapo\\Jul/2013Jul.tif\n",
        "[stdout:7] \n",
        "['2001Aug.tif', '2001Aug.tif.aux.xml', '2002Aug.tif', '2002Aug.tif.aux.xml', '2003Aug.tif', '2003Aug.tif.aux.xml', '2004Aug.tif', '2004Aug.tif.aux.xml', '2005Aug.tif', '2005Aug.tif.aux.xml', '2006Aug.tif', '2006Aug.tif.aux.xml', '2007Aug.tif', '2007Aug.tif.aux.xml', '2008Aug.tif', '2008Aug.tif.aux.xml', '2009Aug.tif', '2009Aug.tif.aux.xml', '2010Aug.tif', '2010Aug.tif.aux.xml', '2011Aug.tif', '2011Aug.tif.aux.xml', '2012Aug.tif', '2012Aug.tif.aux.xml', '2013Aug.tif', '2013Aug.tif.aux.xml', 'processing']\n",
        "C:\\Alex\\script\\evapo\\Aug/2001Aug.tif;C:\\Alex\\script\\evapo\\Aug/2002Aug.tif;C:\\Alex\\script\\evapo\\Aug/2003Aug.tif;C:\\Alex\\script\\evapo\\Aug/2004Aug.tif;C:\\Alex\\script\\evapo\\Aug/2005Aug.tif;C:\\Alex\\script\\evapo\\Aug/2006Aug.tif;C:\\Alex\\script\\evapo\\Aug/2007Aug.tif;C:\\Alex\\script\\evapo\\Aug/2008Aug.tif;C:\\Alex\\script\\evapo\\Aug/2009Aug.tif;C:\\Alex\\script\\evapo\\Aug/2010Aug.tif;C:\\Alex\\script\\evapo\\Aug/2011Aug.tif;C:\\Alex\\script\\evapo\\Aug/2012Aug.tif;C:\\Alex\\script\\evapo\\Aug/2013Aug.tif\n",
        "[stdout:8] \n",
        "['2001Sep.tif', '2001Sep.tif.aux.xml', '2002Sep.tif', '2002Sep.tif.aux.xml', '2003Sep.tif', '2003Sep.tif.aux.xml', '2004Sep.tif', '2004Sep.tif.aux.xml', '2005Sep.tif', '2005Sep.tif.aux.xml', '2006Sep.tif', '2006Sep.tif.aux.xml', '2007Sep.tif', '2007Sep.tif.aux.xml', '2008Sep.tif', '2008Sep.tif.aux.xml', '2009Sep.tif', '2009Sep.tif.aux.xml', '2010Sep.tif', '2010Sep.tif.aux.xml', '2011Sep.tif', '2011Sep.tif.aux.xml', '2012Sep.tif', '2012Sep.tif.aux.xml', '2013Sep.tif', '2013Sep.tif.aux.xml', 'processing']\n",
        "C:\\Alex\\script\\evapo\\Sep/2001Sep.tif;C:\\Alex\\script\\evapo\\Sep/2002Sep.tif;C:\\Alex\\script\\evapo\\Sep/2003Sep.tif;C:\\Alex\\script\\evapo\\Sep/2004Sep.tif;C:\\Alex\\script\\evapo\\Sep/2005Sep.tif;C:\\Alex\\script\\evapo\\Sep/2006Sep.tif;C:\\Alex\\script\\evapo\\Sep/2007Sep.tif;C:\\Alex\\script\\evapo\\Sep/2008Sep.tif;C:\\Alex\\script\\evapo\\Sep/2009Sep.tif;C:\\Alex\\script\\evapo\\Sep/2010Sep.tif;C:\\Alex\\script\\evapo\\Sep/2011Sep.tif;C:\\Alex\\script\\evapo\\Sep/2012Sep.tif;C:\\Alex\\script\\evapo\\Sep/2013Sep.tif\n",
        "[stdout:9] \n",
        "['2001Oct.tif', '2001Oct.tif.aux.xml', '2002Oct.tif', '2002Oct.tif.aux.xml', '2003Oct.tif', '2003Oct.tif.aux.xml', '2004Oct.tif', '2004Oct.tif.aux.xml', '2005Oct.tif', '2005Oct.tif.aux.xml', '2006Oct.tif', '2006Oct.tif.aux.xml', '2007Oct.tif', '2007Oct.tif.aux.xml', '2008Oct.tif', '2008Oct.tif.aux.xml', '2009Oct.tif', '2009Oct.tif.aux.xml', '2010Oct.tif', '2010Oct.tif.aux.xml', '2011Oct.tif', '2011Oct.tif.aux.xml', '2012Oct.tif', '2012Oct.tif.aux.xml', '2013Oct.tif', '2013Oct.tif.aux.xml', 'processing']\n",
        "C:\\Alex\\script\\evapo\\Oct/2001Oct.tif;C:\\Alex\\script\\evapo\\Oct/2002Oct.tif;C:\\Alex\\script\\evapo\\Oct/2003Oct.tif;C:\\Alex\\script\\evapo\\Oct/2004Oct.tif;C:\\Alex\\script\\evapo\\Oct/2005Oct.tif;C:\\Alex\\script\\evapo\\Oct/2006Oct.tif;C:\\Alex\\script\\evapo\\Oct/2007Oct.tif;C:\\Alex\\script\\evapo\\Oct/2008Oct.tif;C:\\Alex\\script\\evapo\\Oct/2009Oct.tif;C:\\Alex\\script\\evapo\\Oct/2010Oct.tif;C:\\Alex\\script\\evapo\\Oct/2011Oct.tif;C:\\Alex\\script\\evapo\\Oct/2012Oct.tif;C:\\Alex\\script\\evapo\\Oct/2013Oct.tif\n",
        "[stdout:10] \n",
        "['2001Nov.tif', '2001Nov.tif.aux.xml', '2002Nov.tif', '2002Nov.tif.aux.xml', '2003Nov.tif', '2003Nov.tif.aux.xml', '2004Nov.tif', '2004Nov.tif.aux.xml', '2005Nov.tif', '2005Nov.tif.aux.xml', '2006Nov.tif', '2006Nov.tif.aux.xml', '2007Nov.tif', '2007Nov.tif.aux.xml', '2008Nov.tif', '2008Nov.tif.aux.xml', '2009Nov.tif', '2009Nov.tif.aux.xml', '2010Nov.tif', '2010Nov.tif.aux.xml', '2011Nov.tif', '2011Nov.tif.aux.xml', '2012Nov.tif', '2012Nov.tif.aux.xml', '2013Nov.tif', '2013Nov.tif.aux.xml', 'processing']\n",
        "C:\\Alex\\script\\evapo\\Nov/2001Nov.tif;C:\\Alex\\script\\evapo\\Nov/2002Nov.tif;C:\\Alex\\script\\evapo\\Nov/2003Nov.tif;C:\\Alex\\script\\evapo\\Nov/2004Nov.tif;C:\\Alex\\script\\evapo\\Nov/2005Nov.tif;C:\\Alex\\script\\evapo\\Nov/2006Nov.tif;C:\\Alex\\script\\evapo\\Nov/2007Nov.tif;C:\\Alex\\script\\evapo\\Nov/2008Nov.tif;C:\\Alex\\script\\evapo\\Nov/2009Nov.tif;C:\\Alex\\script\\evapo\\Nov/2010Nov.tif;C:\\Alex\\script\\evapo\\Nov/2011Nov.tif;C:\\Alex\\script\\evapo\\Nov/2012Nov.tif;C:\\Alex\\script\\evapo\\Nov/2013Nov.tif\n",
        "[stdout:11] \n",
        "['2001Dec.tif', '2001Dec.tif.aux.xml', '2002Dec.tif', '2002Dec.tif.aux.xml', '2003Dec.tif', '2003Dec.tif.aux.xml', '2004Dec.tif', '2004Dec.tif.aux.xml', '2005Dec.tif', '2005Dec.tif.aux.xml', '2006Dec.tif', '2006Dec.tif.aux.xml', '2007Dec.tif', '2007Dec.tif.aux.xml', '2008Dec.tif', '2008Dec.tif.aux.xml', '2009Dec.tif', '2009Dec.tif.aux.xml', '2010Dec.tif', '2010Dec.tif.aux.xml', '2011Dec.tif', '2011Dec.tif.aux.xml', '2012Dec.tif', '2012Dec.tif.aux.xml', '2013Dec.tif', '2013Dec.tif.aux.xml', 'processing']\n",
        "C:\\Alex\\script\\evapo\\Dec/2001Dec.tif;C:\\Alex\\script\\evapo\\Dec/2002Dec.tif;C:\\Alex\\script\\evapo\\Dec/2003Dec.tif;C:\\Alex\\script\\evapo\\Dec/2004Dec.tif;C:\\Alex\\script\\evapo\\Dec/2005Dec.tif;C:\\Alex\\script\\evapo\\Dec/2006Dec.tif;C:\\Alex\\script\\evapo\\Dec/2007Dec.tif;C:\\Alex\\script\\evapo\\Dec/2008Dec.tif;C:\\Alex\\script\\evapo\\Dec/2009Dec.tif;C:\\Alex\\script\\evapo\\Dec/2010Dec.tif;C:\\Alex\\script\\evapo\\Dec/2011Dec.tif;C:\\Alex\\script\\evapo\\Dec/2012Dec.tif;C:\\Alex\\script\\evapo\\Dec/2013Dec.tif\n"
       ]
      },
      {
       "metadata": {},
       "output_type": "display_data",
       "text": [
        "\u001b[0;31mOut[0:3]: \u001b[0m{'output': 'C:/Alex/script/evapo/MDG_Evapo_Jan_Average.tif'}"
       ]
      },
      {
       "metadata": {},
       "output_type": "display_data",
       "text": [
        "\u001b[0;31mOut[1:3]: \u001b[0m{'output': 'C:/Alex/script/evapo/MDG_Evapo_Feb_Average.tif'}"
       ]
      },
      {
       "metadata": {},
       "output_type": "display_data",
       "text": [
        "\u001b[0;31mOut[2:3]: \u001b[0m{'output': 'C:/Alex/script/evapo/MDG_Evapo_Mar_Average.tif'}"
       ]
      },
      {
       "metadata": {},
       "output_type": "display_data",
       "text": [
        "\u001b[0;31mOut[3:3]: \u001b[0m{'output': 'C:/Alex/script/evapo/MDG_Evapo_Apr_Average.tif'}"
       ]
      },
      {
       "metadata": {},
       "output_type": "display_data",
       "text": [
        "\u001b[0;31mOut[4:3]: \u001b[0m{'output': 'C:/Alex/script/evapo/MDG_Evapo_May_Average.tif'}"
       ]
      },
      {
       "metadata": {},
       "output_type": "display_data",
       "text": [
        "\u001b[0;31mOut[5:3]: \u001b[0m{'output': 'C:/Alex/script/evapo/MDG_Evapo_Jun_Average.tif'}"
       ]
      },
      {
       "metadata": {},
       "output_type": "display_data",
       "text": [
        "\u001b[0;31mOut[6:3]: \u001b[0m{'output': 'C:/Alex/script/evapo/MDG_Evapo_Jul_Average.tif'}"
       ]
      },
      {
       "metadata": {},
       "output_type": "display_data",
       "text": [
        "\u001b[0;31mOut[7:3]: \u001b[0m{'output': 'C:/Alex/script/evapo/MDG_Evapo_Aug_Average.tif'}"
       ]
      },
      {
       "metadata": {},
       "output_type": "display_data",
       "text": [
        "\u001b[0;31mOut[8:3]: \u001b[0m{'output': 'C:/Alex/script/evapo/MDG_Evapo_Sep_Average.tif'}"
       ]
      },
      {
       "metadata": {},
       "output_type": "display_data",
       "text": [
        "\u001b[0;31mOut[9:3]: \u001b[0m{'output': 'C:/Alex/script/evapo/MDG_Evapo_Oct_Average.tif'}"
       ]
      },
      {
       "metadata": {},
       "output_type": "display_data",
       "text": [
        "\u001b[0;31mOut[10:3]: \u001b[0m{'output': 'C:/Alex/script/evapo/MDG_Evapo_Nov_Average.tif'}"
       ]
      },
      {
       "metadata": {},
       "output_type": "display_data",
       "text": [
        "\u001b[0;31mOut[11:3]: \u001b[0m{'output': 'C:/Alex/script/evapo/MDG_Evapo_Dec_Average.tif'}"
       ]
      }
     ],
     "prompt_number": 14
    },
    {
     "cell_type": "code",
     "collapsed": false,
     "input": [
      "%%px\n",
      "\n",
      "#STEP 6 exit QGIS and remove temporary files\n",
      "\n",
      "\n",
      "QgsApplication.exitQgis()\n",
      "#QgsApplication.quit()\n",
      "app.quit()\n",
      "#print(os.getcwd())"
     ],
     "language": "python",
     "metadata": {},
     "outputs": [
      {
       "ename": "KeyboardInterrupt",
       "evalue": "",
       "output_type": "pyerr",
       "traceback": [
        "\u001b[1;31m---------------------------------------------------------------------------\u001b[0m\n\u001b[1;31mKeyboardInterrupt\u001b[0m                         Traceback (most recent call last)",
        "\u001b[1;32m<ipython-input-16-6a62e787f81e>\u001b[0m in \u001b[0;36m<module>\u001b[1;34m()\u001b[0m\n\u001b[1;32m----> 1\u001b[1;33m \u001b[0mget_ipython\u001b[0m\u001b[1;33m(\u001b[0m\u001b[1;33m)\u001b[0m\u001b[1;33m.\u001b[0m\u001b[0mrun_cell_magic\u001b[0m\u001b[1;33m(\u001b[0m\u001b[1;34mu'px'\u001b[0m\u001b[1;33m,\u001b[0m \u001b[1;34mu''\u001b[0m\u001b[1;33m,\u001b[0m \u001b[1;34mu'\\n#STEP 6 exit QGIS and remove temporary files\\n\\n\\nQgsApplication.exitQgis()\\n#QgsApplication.quit()\\napp.quit()\\n#print(os.getcwd())'\u001b[0m\u001b[1;33m)\u001b[0m\u001b[1;33m\u001b[0m\u001b[0m\n\u001b[0m",
        "\u001b[1;32mC:\\python27\\lib\\site-packages\\ipython-2.3.1-py2.7.egg\\IPython\\core\\interactiveshell.pyc\u001b[0m in \u001b[0;36mrun_cell_magic\u001b[1;34m(self, magic_name, line, cell)\u001b[0m\n\u001b[0;32m   2160\u001b[0m             \u001b[0mmagic_arg_s\u001b[0m \u001b[1;33m=\u001b[0m \u001b[0mself\u001b[0m\u001b[1;33m.\u001b[0m\u001b[0mvar_expand\u001b[0m\u001b[1;33m(\u001b[0m\u001b[0mline\u001b[0m\u001b[1;33m,\u001b[0m \u001b[0mstack_depth\u001b[0m\u001b[1;33m)\u001b[0m\u001b[1;33m\u001b[0m\u001b[0m\n\u001b[0;32m   2161\u001b[0m             \u001b[1;32mwith\u001b[0m \u001b[0mself\u001b[0m\u001b[1;33m.\u001b[0m\u001b[0mbuiltin_trap\u001b[0m\u001b[1;33m:\u001b[0m\u001b[1;33m\u001b[0m\u001b[0m\n\u001b[1;32m-> 2162\u001b[1;33m                 \u001b[0mresult\u001b[0m \u001b[1;33m=\u001b[0m \u001b[0mfn\u001b[0m\u001b[1;33m(\u001b[0m\u001b[0mmagic_arg_s\u001b[0m\u001b[1;33m,\u001b[0m \u001b[0mcell\u001b[0m\u001b[1;33m)\u001b[0m\u001b[1;33m\u001b[0m\u001b[0m\n\u001b[0m\u001b[0;32m   2163\u001b[0m             \u001b[1;32mreturn\u001b[0m \u001b[0mresult\u001b[0m\u001b[1;33m\u001b[0m\u001b[0m\n\u001b[0;32m   2164\u001b[0m \u001b[1;33m\u001b[0m\u001b[0m\n",
        "\u001b[1;32mC:\\python27\\lib\\site-packages\\ipython-2.3.1-py2.7.egg\\IPython\\parallel\\client\\magics.pyc\u001b[0m in \u001b[0;36mcell_px\u001b[1;34m(self, line, cell)\u001b[0m\n\u001b[0;32m    300\u001b[0m             ar = self.parallel_execute(cell, block=block,\n\u001b[0;32m    301\u001b[0m                                 \u001b[0mgroupby\u001b[0m\u001b[1;33m=\u001b[0m\u001b[0margs\u001b[0m\u001b[1;33m.\u001b[0m\u001b[0mgroupby\u001b[0m\u001b[1;33m,\u001b[0m\u001b[1;33m\u001b[0m\u001b[0m\n\u001b[1;32m--> 302\u001b[1;33m                                 \u001b[0msave_name\u001b[0m\u001b[1;33m=\u001b[0m\u001b[0margs\u001b[0m\u001b[1;33m.\u001b[0m\u001b[0msave_name\u001b[0m\u001b[1;33m,\u001b[0m\u001b[1;33m\u001b[0m\u001b[0m\n\u001b[0m\u001b[0;32m    303\u001b[0m             )\n\u001b[0;32m    304\u001b[0m         \u001b[1;32mfinally\u001b[0m\u001b[1;33m:\u001b[0m\u001b[1;33m\u001b[0m\u001b[0m\n",
        "\u001b[1;32mC:\\python27\\lib\\site-packages\\ipython-2.3.1-py2.7.egg\\IPython\\parallel\\client\\magics.pyc\u001b[0m in \u001b[0;36mparallel_execute\u001b[1;34m(self, cell, block, groupby, save_name)\u001b[0m\n\u001b[0;32m    261\u001b[0m \u001b[1;33m\u001b[0m\u001b[0m\n\u001b[0;32m    262\u001b[0m         \u001b[1;32mif\u001b[0m \u001b[0mblock\u001b[0m\u001b[1;33m:\u001b[0m\u001b[1;33m\u001b[0m\u001b[0m\n\u001b[1;32m--> 263\u001b[1;33m             \u001b[0mresult\u001b[0m\u001b[1;33m.\u001b[0m\u001b[0mget\u001b[0m\u001b[1;33m(\u001b[0m\u001b[1;33m)\u001b[0m\u001b[1;33m\u001b[0m\u001b[0m\n\u001b[0m\u001b[0;32m    264\u001b[0m             \u001b[0mresult\u001b[0m\u001b[1;33m.\u001b[0m\u001b[0mdisplay_outputs\u001b[0m\u001b[1;33m(\u001b[0m\u001b[0mgroupby\u001b[0m\u001b[1;33m)\u001b[0m\u001b[1;33m\u001b[0m\u001b[0m\n\u001b[0;32m    265\u001b[0m         \u001b[1;32melse\u001b[0m\u001b[1;33m:\u001b[0m\u001b[1;33m\u001b[0m\u001b[0m\n",
        "\u001b[1;32mC:\\python27\\lib\\site-packages\\ipython-2.3.1-py2.7.egg\\IPython\\parallel\\client\\asyncresult.pyc\u001b[0m in \u001b[0;36mget\u001b[1;34m(self, timeout)\u001b[0m\n\u001b[0;32m    110\u001b[0m         \"\"\"\n\u001b[0;32m    111\u001b[0m         \u001b[1;32mif\u001b[0m \u001b[1;32mnot\u001b[0m \u001b[0mself\u001b[0m\u001b[1;33m.\u001b[0m\u001b[0mready\u001b[0m\u001b[1;33m(\u001b[0m\u001b[1;33m)\u001b[0m\u001b[1;33m:\u001b[0m\u001b[1;33m\u001b[0m\u001b[0m\n\u001b[1;32m--> 112\u001b[1;33m             \u001b[0mself\u001b[0m\u001b[1;33m.\u001b[0m\u001b[0mwait\u001b[0m\u001b[1;33m(\u001b[0m\u001b[0mtimeout\u001b[0m\u001b[1;33m)\u001b[0m\u001b[1;33m\u001b[0m\u001b[0m\n\u001b[0m\u001b[0;32m    113\u001b[0m \u001b[1;33m\u001b[0m\u001b[0m\n\u001b[0;32m    114\u001b[0m         \u001b[1;32mif\u001b[0m \u001b[0mself\u001b[0m\u001b[1;33m.\u001b[0m\u001b[0m_ready\u001b[0m\u001b[1;33m:\u001b[0m\u001b[1;33m\u001b[0m\u001b[0m\n",
        "\u001b[1;32mC:\\python27\\lib\\site-packages\\ipython-2.3.1-py2.7.egg\\IPython\\parallel\\client\\asyncresult.pyc\u001b[0m in \u001b[0;36mwait\u001b[1;34m(self, timeout)\u001b[0m\n\u001b[0;32m    141\u001b[0m             \u001b[0mself\u001b[0m\u001b[1;33m.\u001b[0m\u001b[0m_wait_for_outputs\u001b[0m\u001b[1;33m(\u001b[0m\u001b[0mtimeout\u001b[0m\u001b[1;33m)\u001b[0m\u001b[1;33m\u001b[0m\u001b[0m\n\u001b[0;32m    142\u001b[0m             \u001b[1;32mreturn\u001b[0m\u001b[1;33m\u001b[0m\u001b[0m\n\u001b[1;32m--> 143\u001b[1;33m         \u001b[0mself\u001b[0m\u001b[1;33m.\u001b[0m\u001b[0m_ready\u001b[0m \u001b[1;33m=\u001b[0m \u001b[0mself\u001b[0m\u001b[1;33m.\u001b[0m\u001b[0m_client\u001b[0m\u001b[1;33m.\u001b[0m\u001b[0mwait\u001b[0m\u001b[1;33m(\u001b[0m\u001b[0mself\u001b[0m\u001b[1;33m.\u001b[0m\u001b[0mmsg_ids\u001b[0m\u001b[1;33m,\u001b[0m \u001b[0mtimeout\u001b[0m\u001b[1;33m)\u001b[0m\u001b[1;33m\u001b[0m\u001b[0m\n\u001b[0m\u001b[0;32m    144\u001b[0m         \u001b[1;32mif\u001b[0m \u001b[0mself\u001b[0m\u001b[1;33m.\u001b[0m\u001b[0m_ready\u001b[0m\u001b[1;33m:\u001b[0m\u001b[1;33m\u001b[0m\u001b[0m\n\u001b[0;32m    145\u001b[0m             \u001b[1;32mtry\u001b[0m\u001b[1;33m:\u001b[0m\u001b[1;33m\u001b[0m\u001b[0m\n",
        "\u001b[1;32mC:\\python27\\lib\\site-packages\\ipython-2.3.1-py2.7.egg\\IPython\\parallel\\client\\client.pyc\u001b[0m in \u001b[0;36mwait\u001b[1;34m(self, jobs, timeout)\u001b[0m\n\u001b[0;32m   1089\u001b[0m             \u001b[1;32mif\u001b[0m \u001b[0mtimeout\u001b[0m \u001b[1;33m>=\u001b[0m \u001b[1;36m0\u001b[0m \u001b[1;32mand\u001b[0m \u001b[1;33m(\u001b[0m \u001b[0mtime\u001b[0m\u001b[1;33m.\u001b[0m\u001b[0mtime\u001b[0m\u001b[1;33m(\u001b[0m\u001b[1;33m)\u001b[0m\u001b[1;33m-\u001b[0m\u001b[0mtic\u001b[0m \u001b[1;33m)\u001b[0m \u001b[1;33m>\u001b[0m \u001b[0mtimeout\u001b[0m\u001b[1;33m:\u001b[0m\u001b[1;33m\u001b[0m\u001b[0m\n\u001b[0;32m   1090\u001b[0m                 \u001b[1;32mbreak\u001b[0m\u001b[1;33m\u001b[0m\u001b[0m\n\u001b[1;32m-> 1091\u001b[1;33m             \u001b[0mtime\u001b[0m\u001b[1;33m.\u001b[0m\u001b[0msleep\u001b[0m\u001b[1;33m(\u001b[0m\u001b[1;36m1e-3\u001b[0m\u001b[1;33m)\u001b[0m\u001b[1;33m\u001b[0m\u001b[0m\n\u001b[0m\u001b[0;32m   1092\u001b[0m             \u001b[0mself\u001b[0m\u001b[1;33m.\u001b[0m\u001b[0mspin\u001b[0m\u001b[1;33m(\u001b[0m\u001b[1;33m)\u001b[0m\u001b[1;33m\u001b[0m\u001b[0m\n\u001b[0;32m   1093\u001b[0m         \u001b[1;32mreturn\u001b[0m \u001b[0mlen\u001b[0m\u001b[1;33m(\u001b[0m\u001b[0mtheids\u001b[0m\u001b[1;33m.\u001b[0m\u001b[0mintersection\u001b[0m\u001b[1;33m(\u001b[0m\u001b[0mself\u001b[0m\u001b[1;33m.\u001b[0m\u001b[0moutstanding\u001b[0m\u001b[1;33m)\u001b[0m\u001b[1;33m)\u001b[0m \u001b[1;33m==\u001b[0m \u001b[1;36m0\u001b[0m\u001b[1;33m\u001b[0m\u001b[0m\n",
        "\u001b[1;31mKeyboardInterrupt\u001b[0m: "
       ]
      }
     ],
     "prompt_number": 16
    },
    {
     "cell_type": "code",
     "collapsed": false,
     "input": [],
     "language": "python",
     "metadata": {},
     "outputs": []
    }
   ],
   "metadata": {}
  }
 ]
}